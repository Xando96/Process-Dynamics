{
 "cells": [
  {
   "cell_type": "markdown",
   "metadata": {},
   "source": [
    "## Justifying vectors and matrices\n",
    "\n",
    "It is possible to write a program in many ways however some are better than other for a few reasons. If you had multiple variable and you need to find the value of the sum you could write a program like this:"
   ]
  },
  {
   "cell_type": "code",
   "execution_count": null,
   "metadata": {},
   "outputs": [],
   "source": [
    "a = 1\n",
    "b = 1\n",
    "c = 1\n",
    "d = 2\n",
    "e = 5\n",
    "f = 6\n",
    "g = 7\n",
    "h = 1\n",
    "j = 8\n",
    "i = 8\n",
    "p = 9\n",
    "\n",
    "total = a + b + c + d + e + f + g + h + i + j + p\n",
    "total"
   ]
  },
  {
   "cell_type": "markdown",
   "metadata": {},
   "source": [
    "This may get the job done the quickest and requires the least amount of \"learning\" but it has downsides. Each time you need to add a variable to the program you would need to update each entry of the new variable, this is error prone and each time you need a similar program you would need to use this same tedious method. The alternative is to invest time into learning how to use code using more powerful functions and libraries. Although this is will cost you time upfront this investment will pay off in the long run since you will be able to write better more powerful programs faster. \n",
    "\n",
    "An example of how the above program could be written is like this:"
   ]
  },
  {
   "cell_type": "code",
   "execution_count": null,
   "metadata": {},
   "outputs": [],
   "source": [
    "l = [1,1,1,2,5,6,7,1,8,8,9]\n",
    "sum (l)"
   ]
  },
  {
   "cell_type": "markdown",
   "metadata": {},
   "source": [
    "Matrices are one way of writing better programs, below is a demonstration of using matrices to write faster programs. "
   ]
  },
  {
   "cell_type": "code",
   "execution_count": 1,
   "metadata": {},
   "outputs": [],
   "source": [
    "import sympy as sp\n",
    "import numpy as np\n",
    "sp.init_printing()"
   ]
  },
  {
   "cell_type": "markdown",
   "metadata": {},
   "source": [
    "<img src = map.png width = 500/>"
   ]
  },
  {
   "cell_type": "markdown",
   "metadata": {},
   "source": [
    "Solving the problem symbolically with Sympy:"
   ]
  },
  {
   "cell_type": "code",
   "execution_count": 2,
   "metadata": {},
   "outputs": [],
   "source": [
    "r0,r1,r2,r3,r4,gamma,alpha,beta,mu,theta = sp.symbols(r'r_0,r_1,r_2,r_3,r_4,\\gamma,\\alpha,\\beta,\\mu,\\theta')\n",
    "\n",
    "variables = [r0,r1,r2,r3,r4]\n",
    "equations = [-r0 + (1 + alpha) * r1 + r2,\n",
    "            -r2 + r3 + 1.5 * r4,\n",
    "            beta*r1 - 1/3 * r3,\n",
    "            -gamma*r1 - 1/3 * r2 + r4 - theta,\n",
    "            r1 - mu]"
   ]
  },
  {
   "cell_type": "code",
   "execution_count": 3,
   "metadata": {},
   "outputs": [
    {
     "data": {
      "image/png": "[encoded data removed]",
      "text/latex": [
       "$\\displaystyle \\left[ r_{0}, \\  r_{1}, \\  r_{2}, \\  r_{3}, \\  r_{4}\\right]$"
      ],
      "text/plain": [
       "[r₀, r₁, r₂, r₃, r₄]"
      ]
     },
     "execution_count": 3,
     "metadata": {},
     "output_type": "execute_result"
    }
   ],
   "source": [
    "variables"
   ]
  },
  {
   "cell_type": "code",
   "execution_count": 4,
   "metadata": {},
   "outputs": [
    {
     "data": {
      "image/png": "[encoded data removed]",
      "text/latex": [
       "$\\displaystyle \\left[ - r_{0} + r_{1} \\left(\\alpha + 1\\right) + r_{2}, \\  - r_{2} + r_{3} + 1.5 r_{4}, \\  \\beta r_{1} - 0.333333333333333 r_{3}, \\  - \\gamma r_{1} - \\theta - 0.333333333333333 r_{2} + r_{4}, \\  - \\mu + r_{1}\\right]$"
      ],
      "text/plain": [
       "[-r₀ + r₁⋅(\\alpha + 1) + r₂, -r₂ + r₃ + 1.5⋅r₄, \\beta⋅r₁ - 0.333333333333333⋅r\n",
       "₃, -\\gamma⋅r₁ - \\theta - 0.333333333333333⋅r₂ + r₄, -\\mu + r₁]"
      ]
     },
     "execution_count": 4,
     "metadata": {},
     "output_type": "execute_result"
    }
   ],
   "source": [
    "equations"
   ]
  },
  {
   "cell_type": "code",
   "execution_count": 5,
   "metadata": {},
   "outputs": [
    {
     "name": "stdout",
     "output_type": "stream",
     "text": [
      "80 ms ± 5.48 ms per loop (mean ± std. dev. of 7 runs, 1 loop each)\n"
     ]
    }
   ],
   "source": [
    "%%timeit\n",
    "\n",
    "soln = sp.solve(equations,variables)"
   ]
  },
  {
   "cell_type": "code",
   "execution_count": 6,
   "metadata": {},
   "outputs": [
    {
     "data": {
      "image/png": "[encoded data removed]",
      "text/latex": [
       "$\\displaystyle 1.36$"
      ],
      "text/plain": [
       "1.36000000000000"
      ]
     },
     "execution_count": 6,
     "metadata": {},
     "output_type": "execute_result"
    }
   ],
   "source": [
    "soln = sp.solve(equations,variables)\n",
    "soln[r4].subs({alpha:0.1,beta:0.1,theta:0.2,mu:0.3,gamma:1.5})"
   ]
  },
  {
   "cell_type": "markdown",
   "metadata": {},
   "source": [
    "Now lets see if converting to matrix from will help, we'll use Numpy for this:"
   ]
  },
  {
   "cell_type": "code",
   "execution_count": 7,
   "metadata": {},
   "outputs": [],
   "source": [
    "alpha,beta,theta,mu,gamma = 0.1,0.1,0.2,0.3,1.5\n",
    "\n",
    "A = np.matrix([[     -1,1+alpha,      1,      0,      0 ],\n",
    "               [      0,      0,     -1,      1,    1.5 ],\n",
    "               [   beta,      0,      0,   -1/3,      0 ],\n",
    "               [ -gamma,      0,   -1/3,      0,      1 ],\n",
    "               [      1,      0,      0,      0,      0 ],])\n",
    "\n",
    "B = np.matrix([      0,      0,      0,  theta,      mu ],).T\n",
    "\n",
    "\n",
    "# A * r = B"
   ]
  },
  {
   "cell_type": "code",
   "execution_count": 8,
   "metadata": {},
   "outputs": [
    {
     "name": "stdout",
     "output_type": "stream",
     "text": [
      "13.4 µs ± 198 ns per loop (mean ± std. dev. of 7 runs, 100000 loops each)\n"
     ]
    }
   ],
   "source": [
    "%%timeit\n",
    "\n",
    "r = np.linalg.solve(A,B)"
   ]
  },
  {
   "cell_type": "code",
   "execution_count": 9,
   "metadata": {},
   "outputs": [
    {
     "data": {
      "text/plain": [
       "matrix([[1.36]])"
      ]
     },
     "execution_count": 9,
     "metadata": {},
     "output_type": "execute_result"
    }
   ],
   "source": [
    "r = np.linalg.solve(A,B)\n",
    "r[4]"
   ]
  },
  {
   "cell_type": "code",
   "execution_count": 10,
   "metadata": {},
   "outputs": [
    {
     "data": {
      "image/png": "[encoded data removed]",
      "text/latex": [
       "$\\displaystyle 5970.149253731343$"
      ],
      "text/plain": [
       "5970.149253731343"
      ]
     },
     "execution_count": 10,
     "metadata": {},
     "output_type": "execute_result"
    }
   ],
   "source": [
    "80E-3/13.4E-6"
   ]
  },
  {
   "cell_type": "markdown",
   "metadata": {},
   "source": [
    "Wow that is a factor of 5970 times slower to computer the same solution."
   ]
  }
 ],
 "metadata": {
  "kernelspec": {
   "display_name": "Python 3",
   "language": "python",
   "name": "python3"
  },
  "language_info": {
   "codemirror_mode": {
    "name": "ipython",
    "version": 3
   },
   "file_extension": ".py",
   "mimetype": "text/x-python",
   "name": "python",
   "nbconvert_exporter": "python",
   "pygments_lexer": "ipython3",
   "version": "3.7.7"
  }
 },
 "nbformat": 4,
 "nbformat_minor": 4
}
