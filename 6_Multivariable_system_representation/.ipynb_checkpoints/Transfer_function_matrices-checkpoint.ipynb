{
 "cells": [
  {
   "cell_type": "markdown",
   "metadata": {},
   "source": [
    "## Transfer function matrices\n",
    "\n",
    "Let's say we have two inputs and two outputs. We can write the linearised effect as follows:\n",
    "\n",
    "\\begin{align}\n",
    "y_1 &= G_{11} u_1 + G_{12} u_2 \\\\\n",
    "y_2 &= G_{21} u_1 + G_{22} u_2\n",
    "\\end{align}\n",
    "\n",
    "Which is equivalent to a matrix expression\n",
    "\n",
    "$$\\mathbf{y} = G \\mathbf{u}$$\n",
    "\n",
    "with \n",
    "\n",
    "$$\\mathbf{y} = \\begin{bmatrix}y_1\\\\y_2\\end{bmatrix} \n",
    "  \\quad G = \\begin{bmatrix}G_{11} & G_{12} \\\\ G_{21} & G_{22} \\end{bmatrix}\n",
    "  \\quad \\mathbf{u} = \\begin{bmatrix}u_1\\\\u_2\\end{bmatrix}$$\n"
   ]
  },
  {
   "cell_type": "markdown",
   "metadata": {},
   "source": [
    "I find it useful to picture the input going into the top of the matrix and the output coming out of the side as shown in this animation"
   ]
  },
  {
   "cell_type": "markdown",
   "metadata": {},
   "source": [
    "![Matrix multiplication](mmult.gif)"
   ]
  },
  {
   "cell_type": "markdown",
   "metadata": {},
   "source": [
    "### Representing matrices in SymPy"
   ]
  },
  {
   "cell_type": "code",
   "execution_count": 62,
   "metadata": {},
   "outputs": [],
   "source": [
    "import sympy\n",
    "sympy.init_printing()"
   ]
  },
  {
   "cell_type": "code",
   "execution_count": 63,
   "metadata": {},
   "outputs": [],
   "source": [
    "s = sympy.Symbol('s')"
   ]
  },
  {
   "cell_type": "code",
   "execution_count": 64,
   "metadata": {},
   "outputs": [],
   "source": [
    "G11 = (s + 1)/(s + 2)\n",
    "G12 = 1/(2*s + 1)\n",
    "G21 = 1/(3*s + 1) \n",
    "G22 = 1/(4*s + 1)\n",
    "\n",
    "row1 = [G11, G12]\n",
    "row2 = [G21, G22]\n",
    "list_of_lists = [row1, \n",
    "                 row2]"
   ]
  },
  {
   "cell_type": "code",
   "execution_count": 65,
   "metadata": {},
   "outputs": [],
   "source": [
    "G = sympy.Matrix(list_of_lists)"
   ]
  },
  {
   "cell_type": "code",
   "execution_count": 67,
   "metadata": {},
   "outputs": [
    {
     "data": {
      "image/png": "[encoded data removed]",
      "text/latex": [
       "$\\displaystyle \\frac{1}{3 s + 1}$"
      ],
      "text/plain": [
       "   1   \n",
       "───────\n",
       "3⋅s + 1"
      ]
     },
     "execution_count": 67,
     "metadata": {},
     "output_type": "execute_result"
    }
   ],
   "source": [
    "G[1, 0]"
   ]
  },
  {
   "cell_type": "code",
   "execution_count": 6,
   "metadata": {},
   "outputs": [
    {
     "data": {
      "image/png": "[encoded data removed]",
      "text/latex": [
       "$\\displaystyle \\left[\\begin{matrix}\\frac{6 s^{3} + 17 s^{2} + 11 s + 2}{6 s^{3} + 7 s^{2} - 3 s - 1} & - \\frac{12 s^{3} + 31 s^{2} + 15 s + 2}{6 s^{3} + 7 s^{2} - 3 s - 1}\\\\- \\frac{8 s^{3} + 22 s^{2} + 13 s + 2}{6 s^{3} + 7 s^{2} - 3 s - 1} & \\frac{24 s^{4} + 50 s^{3} + 35 s^{2} + 10 s + 1}{6 s^{3} + 7 s^{2} - 3 s - 1}\\end{matrix}\\right]$"
      ],
      "text/plain": [
       "⎡     3       2                  ⎛    3       2           ⎞   ⎤\n",
       "⎢  6⋅s  + 17⋅s  + 11⋅s + 2      -⎝12⋅s  + 31⋅s  + 15⋅s + 2⎠   ⎥\n",
       "⎢  ───────────────────────      ────────────────────────────  ⎥\n",
       "⎢      3      2                       3      2                ⎥\n",
       "⎢   6⋅s  + 7⋅s  - 3⋅s - 1          6⋅s  + 7⋅s  - 3⋅s - 1      ⎥\n",
       "⎢                                                             ⎥\n",
       "⎢ ⎛   3       2           ⎞       4       3       2           ⎥\n",
       "⎢-⎝8⋅s  + 22⋅s  + 13⋅s + 2⎠   24⋅s  + 50⋅s  + 35⋅s  + 10⋅s + 1⎥\n",
       "⎢───────────────────────────  ────────────────────────────────⎥\n",
       "⎢      3      2                       3      2                ⎥\n",
       "⎣   6⋅s  + 7⋅s  - 3⋅s - 1          6⋅s  + 7⋅s  - 3⋅s - 1      ⎦"
      ]
     },
     "execution_count": 6,
     "metadata": {},
     "output_type": "execute_result"
    }
   ],
   "source": [
    "sympy.simplify(G.inv())"
   ]
  },
  {
   "cell_type": "code",
   "execution_count": 7,
   "metadata": {},
   "outputs": [
    {
     "data": {
      "image/png": "[encoded data removed]",
      "text/latex": [
       "$\\displaystyle \\left[\\begin{matrix}\\frac{2 \\left(s + 1\\right)}{s + 2} & \\frac{2}{2 s + 1}\\\\\\frac{2}{3 s + 1} & \\frac{2}{4 s + 1}\\end{matrix}\\right]$"
      ],
      "text/plain": [
       "⎡2⋅(s + 1)     2   ⎤\n",
       "⎢─────────  ───────⎥\n",
       "⎢  s + 2    2⋅s + 1⎥\n",
       "⎢                  ⎥\n",
       "⎢    2         2   ⎥\n",
       "⎢ ───────   ───────⎥\n",
       "⎣ 3⋅s + 1   4⋅s + 1⎦"
      ]
     },
     "execution_count": 7,
     "metadata": {},
     "output_type": "execute_result"
    }
   ],
   "source": [
    "G + G"
   ]
  },
  {
   "cell_type": "markdown",
   "metadata": {},
   "source": [
    "### Representing matrices using the control library"
   ]
  },
  {
   "cell_type": "code",
   "execution_count": 8,
   "metadata": {},
   "outputs": [],
   "source": [
    "import control"
   ]
  },
  {
   "cell_type": "code",
   "execution_count": 9,
   "metadata": {},
   "outputs": [
    {
     "data": {
      "text/latex": [
       "$$\\frac{1}{s + 2}$$"
      ],
      "text/plain": [
       "\n",
       "  1\n",
       "-----\n",
       "s + 2"
      ]
     },
     "execution_count": 9,
     "metadata": {},
     "output_type": "execute_result"
    }
   ],
   "source": [
    "control.tf([0, 1], [1, 2])"
   ]
  },
  {
   "cell_type": "code",
   "execution_count": 10,
   "metadata": {},
   "outputs": [],
   "source": [
    "s = control.tf([1, 0], 1)"
   ]
  },
  {
   "cell_type": "code",
   "execution_count": 11,
   "metadata": {},
   "outputs": [
    {
     "data": {
      "text/latex": [
       "$$\\frac{s}{1}$$"
      ],
      "text/plain": [
       "\n",
       "s\n",
       "-\n",
       "1"
      ]
     },
     "execution_count": 11,
     "metadata": {},
     "output_type": "execute_result"
    }
   ],
   "source": [
    "s"
   ]
  },
  {
   "cell_type": "code",
   "execution_count": 12,
   "metadata": {},
   "outputs": [],
   "source": [
    "G = 1/(s + 1)"
   ]
  },
  {
   "cell_type": "code",
   "execution_count": 13,
   "metadata": {},
   "outputs": [],
   "source": [
    "num11 = [1, 2]\n",
    "num12 = [2]\n",
    "num21 = [3]\n",
    "num22 = [4]\n",
    "\n",
    "row1 = [num11, num12]\n",
    "row2 = [num21, num22]\n",
    "numerator = [row1, \n",
    "             row2]\n",
    "\n",
    "\n",
    "denominator = [[[1, 1], [2, 1]], \n",
    "               [[3, 1], [4, 1]]]\n",
    "Gmatrix = control.tf(numerator, \n",
    "           denominator)"
   ]
  },
  {
   "cell_type": "code",
   "execution_count": 14,
   "metadata": {},
   "outputs": [
    {
     "data": {
      "text/latex": [
       "$$\\begin{bmatrix}\\frac{s + 2}{s + 1}&\\frac{2}{2 s + 1}\\\\\\frac{3}{3 s + 1}&\\frac{4}{4 s + 1}\\\\ \\end{bmatrix}$$"
      ],
      "text/plain": [
       "\n",
       "Input 1 to output 1:\n",
       "s + 2\n",
       "-----\n",
       "s + 1\n",
       "\n",
       "Input 1 to output 2:\n",
       "   3\n",
       "-------\n",
       "3 s + 1\n",
       "\n",
       "Input 2 to output 1:\n",
       "   2\n",
       "-------\n",
       "2 s + 1\n",
       "\n",
       "Input 2 to output 2:\n",
       "   4\n",
       "-------\n",
       "4 s + 1"
      ]
     },
     "execution_count": 14,
     "metadata": {},
     "output_type": "execute_result"
    }
   ],
   "source": [
    "Gmatrix"
   ]
  },
  {
   "cell_type": "markdown",
   "metadata": {},
   "source": [
    "## Conversion to state space"
   ]
  },
  {
   "cell_type": "markdown",
   "metadata": {},
   "source": [
    "See the [state space notebook](https://nbviewer.jupyter.org/github/reubens9/Process-Dynamics/tree/master/6_Multivariable_system_representation/State_space.ipynb) for more information about conversion between state space and transfer function form. The examples in that notebook are for SISO transfer functions."
   ]
  },
  {
   "cell_type": "markdown",
   "metadata": {},
   "source": [
    "There are no tools in `scipy.signal` to deal with mutlivariable transfer functions. However, the control library can do the conversion from a transfer function matrix to a state space form if you have the [sclycot]() library installed."
   ]
  },
  {
   "cell_type": "markdown",
   "metadata": {},
   "source": [
    "You can try to install slycot using this command, copying and pasting into command line results in the best experience:"
   ]
  },
  {
   "cell_type": "code",
   "execution_count": 15,
   "metadata": {},
   "outputs": [],
   "source": [
    "# !conda install -c conda-forge control slycot"
   ]
  },
  {
   "cell_type": "code",
   "execution_count": 16,
   "metadata": {},
   "outputs": [
    {
     "data": {
      "text/plain": [
       "A = [[-1.33333333e+00  1.22509144e-16 -7.73266239e-17 -3.33333333e-01]\n",
       " [-2.95571081e-16 -7.50000000e-01 -1.25000000e-01 -1.27027314e-16]\n",
       " [-1.11022302e-16  1.00000000e+00 -4.57014438e-17  4.90658107e-17]\n",
       " [ 1.00000000e+00  0.00000000e+00 -4.56699298e-17 -3.21596062e-16]]\n",
       "\n",
       "B = [[1. 0.]\n",
       " [0. 1.]\n",
       " [0. 0.]\n",
       " [0. 0.]]\n",
       "\n",
       "C = [[1.         1.         0.25       0.33333333]\n",
       " [1.         1.         0.5        1.        ]]\n",
       "\n",
       "D = [[1. 0.]\n",
       " [0. 0.]]"
      ]
     },
     "execution_count": 16,
     "metadata": {},
     "output_type": "execute_result"
    }
   ],
   "source": [
    "control.ss(Gmatrix)"
   ]
  },
  {
   "cell_type": "markdown",
   "metadata": {},
   "source": [
    "<img src = block_diagram.png width = 500 />"
   ]
  },
  {
   "cell_type": "code",
   "execution_count": 69,
   "metadata": {},
   "outputs": [
    {
     "data": {
      "text/latex": [
       "$$\\frac{2}{s^2 + 7 s + 12}$$"
      ],
      "text/plain": [
       "\n",
       "      2\n",
       "--------------\n",
       "s^2 + 7 s + 12"
      ]
     },
     "execution_count": 69,
     "metadata": {},
     "output_type": "execute_result"
    }
   ],
   "source": [
    "G1 = control.tf([0.2,0.2],[1,0])\n",
    "G2 = control.tf([2],[1, 7, 12])"
   ]
  },
  {
   "cell_type": "code",
   "execution_count": 70,
   "metadata": {},
   "outputs": [
    {
     "data": {
      "text/latex": [
       "$$\\frac{0.4 s^4 + 3.2 s^3 + 7.6 s^2 + 4.8 s}{s^6 + 14 s^5 + 73.4 s^4 + 171.2 s^3 + 151.6 s^2 + 4.8 s}$$"
      ],
      "text/plain": [
       "\n",
       "          0.4 s^4 + 3.2 s^3 + 7.6 s^2 + 4.8 s\n",
       "-------------------------------------------------------\n",
       "s^6 + 14 s^5 + 73.4 s^4 + 171.2 s^3 + 151.6 s^2 + 4.8 s"
      ]
     },
     "execution_count": 70,
     "metadata": {},
     "output_type": "execute_result"
    }
   ],
   "source": [
    "GT = G1*G2/(G1 * G2 + 1)\n",
    "GT"
   ]
  },
  {
   "cell_type": "code",
   "execution_count": 71,
   "metadata": {},
   "outputs": [
    {
     "data": {
      "text/plain": [
       "A = [[-7.00000000e+00  1.24000000e+00  4.00000000e-01]\n",
       " [-1.00000000e+01  1.65404010e-15 -2.94117947e-15]\n",
       " [ 0.00000000e+00  1.00000000e-01  2.37344176e-16]]\n",
       "\n",
       "B = [[-1.]\n",
       " [ 0.]\n",
       " [ 0.]]\n",
       "\n",
       "C = [[0.   0.04 0.4 ]]\n",
       "\n",
       "D = [[0.]]"
      ]
     },
     "execution_count": 71,
     "metadata": {},
     "output_type": "execute_result"
    }
   ],
   "source": [
    "control.ss(GT)"
   ]
  },
  {
   "cell_type": "code",
   "execution_count": 72,
   "metadata": {},
   "outputs": [
    {
     "data": {
      "text/plain": [
       "array([-4.        +0.j        , -3.48356753+0.18916341j,\n",
       "       -3.48356753-0.18916341j, -3.        +0.j        ,\n",
       "       -0.03286494+0.j        ,  0.        +0.j        ])"
      ]
     },
     "execution_count": 72,
     "metadata": {},
     "output_type": "execute_result"
    }
   ],
   "source": [
    "GT.pole()"
   ]
  }
 ],
 "metadata": {
  "kernelspec": {
   "display_name": "Python 3",
   "language": "python",
   "name": "python3"
  },
  "language_info": {
   "codemirror_mode": {
    "name": "ipython",
    "version": 3
   },
   "file_extension": ".py",
   "mimetype": "text/x-python",
   "name": "python",
   "nbconvert_exporter": "python",
   "pygments_lexer": "ipython3",
   "version": "3.7.7"
  }
 },
 "nbformat": 4,
 "nbformat_minor": 2
}
