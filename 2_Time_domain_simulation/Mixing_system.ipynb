{
 "cells": [
  {
   "cell_type": "markdown",
   "metadata": {},
   "source": [
    "## Mixing system\n",
    "\n",
    "Problem statement: The figure below shows a set of well-mixed mixing tanks. All the streams contain a binary mixture of substance X and substance Y. Steams A, B and C are fed into the system from an upstream process.\n",
    "\n",
    "Tanks 1 and 2 are drained by the force of gravity (assume flow is proportional to level), while the pump attached to the tank 3 output is sized such that the level in tank 3 does not affect the flowrate through the pump.\n",
    "\n",
    "You may assume that the valves in lines G, H, J and L can manipulate those flows directly.\n",
    "\n",
    "The density of substance X is ρX = 1000 kg/m3 and the density of substance Y is ρY = 800 kg/m3."
   ]
  },
  {
   "cell_type": "markdown",
   "metadata": {},
   "source": [
    "<img width=\"30%\" src=\"mixing_tanks.png\">"
   ]
  },
  {
   "cell_type": "markdown",
   "metadata": {},
   "source": [
    "## Steady state calculation"
   ]
  },
  {
   "cell_type": "markdown",
   "metadata": {},
   "source": [
    "Find the steady state flow rates and compositions of all the streams given that\n",
    "3\n",
    "* Stream A is 1m3/h of substance X\n",
    "* Streams B and C are both 1m3/h of substance Y.\n",
    "* H=G,H=2J,J=2L."
   ]
  },
  {
   "cell_type": "markdown",
   "metadata": {},
   "source": [
    "### Flow rates"
   ]
  },
  {
   "cell_type": "code",
   "execution_count": 1,
   "metadata": {},
   "outputs": [],
   "source": [
    "ρx = 1000  # kg/m3\n",
    "ρy = 800  # kg/m3\n",
    "\n",
    "A = 1*ρx\n",
    "B = 1*ρy\n",
    "C = 1*ρy"
   ]
  },
  {
   "cell_type": "code",
   "execution_count": 2,
   "metadata": {},
   "outputs": [],
   "source": [
    "G = A + B + C"
   ]
  },
  {
   "cell_type": "code",
   "execution_count": 3,
   "metadata": {},
   "outputs": [],
   "source": [
    "H = G\n",
    "J = H/2\n",
    "L = J/2"
   ]
  },
  {
   "cell_type": "code",
   "execution_count": 4,
   "metadata": {},
   "outputs": [],
   "source": [
    "F = G + H"
   ]
  },
  {
   "cell_type": "code",
   "execution_count": 5,
   "metadata": {},
   "outputs": [],
   "source": [
    "D = A + L"
   ]
  },
  {
   "cell_type": "code",
   "execution_count": 6,
   "metadata": {},
   "outputs": [],
   "source": [
    "K = J - L\n",
    "I = H - J"
   ]
  },
  {
   "cell_type": "code",
   "execution_count": 7,
   "metadata": {},
   "outputs": [],
   "source": [
    "E = B + D + K"
   ]
  },
  {
   "cell_type": "code",
   "execution_count": 8,
   "metadata": {},
   "outputs": [
    {
     "data": {
      "text/plain": [
       "(1000,\n",
       " 800,\n",
       " 800,\n",
       " 1650.0,\n",
       " 3100.0,\n",
       " 5200,\n",
       " 2600,\n",
       " 2600,\n",
       " 1300.0,\n",
       " 1300.0,\n",
       " 650.0,\n",
       " 650.0)"
      ]
     },
     "execution_count": 8,
     "metadata": {},
     "output_type": "execute_result"
    }
   ],
   "source": [
    "A, B, C, D, E, F, G, H, I, J, K, L"
   ]
  },
  {
   "cell_type": "markdown",
   "metadata": {},
   "source": [
    "### Compositions"
   ]
  },
  {
   "cell_type": "code",
   "execution_count": 9,
   "metadata": {},
   "outputs": [],
   "source": [
    "xA = 1\n",
    "xB = 0\n",
    "xC = 0"
   ]
  },
  {
   "cell_type": "code",
   "execution_count": 10,
   "metadata": {},
   "outputs": [],
   "source": [
    "xG = (xA*A + xB*B + xC*C)/G"
   ]
  },
  {
   "cell_type": "code",
   "execution_count": 11,
   "metadata": {},
   "outputs": [],
   "source": [
    "x3 = xF = xH = xI = xJ = xK = xL = xG"
   ]
  },
  {
   "cell_type": "code",
   "execution_count": 12,
   "metadata": {},
   "outputs": [],
   "source": [
    "x1 = xD = (xA*A + xL*L)/D"
   ]
  },
  {
   "cell_type": "code",
   "execution_count": 13,
   "metadata": {},
   "outputs": [],
   "source": [
    "x2 = xE = (xB*B + xD*D + xK*K)/E"
   ]
  },
  {
   "cell_type": "markdown",
   "metadata": {},
   "source": [
    "## Design\n",
    "Assuming all three tanks are of constant cross-sectional area of 3m2, find out what the proportionality constants should be for tank 1 and 2 so that the steady state levels will be 1 m."
   ]
  },
  {
   "cell_type": "code",
   "execution_count": 14,
   "metadata": {},
   "outputs": [],
   "source": [
    "A1 = A2 = A3 = 3"
   ]
  },
  {
   "cell_type": "code",
   "execution_count": 15,
   "metadata": {},
   "outputs": [],
   "source": [
    "h1 = h2 = h3 = 1"
   ]
  },
  {
   "cell_type": "code",
   "execution_count": 16,
   "metadata": {},
   "outputs": [],
   "source": [
    "k1 = D/h1"
   ]
  },
  {
   "cell_type": "code",
   "execution_count": 17,
   "metadata": {},
   "outputs": [],
   "source": [
    "k2 = E/h2"
   ]
  },
  {
   "cell_type": "code",
   "execution_count": 18,
   "metadata": {},
   "outputs": [
    {
     "data": {
      "text/plain": [
       "(1650.0, 3100.0)"
      ]
     },
     "execution_count": 18,
     "metadata": {},
     "output_type": "execute_result"
    }
   ],
   "source": [
    "k1, k2"
   ]
  },
  {
   "cell_type": "markdown",
   "metadata": {},
   "source": [
    "## Dynamic simulation\n",
    "\n",
    "Now that you have all the parameters in your system, simulate the response of the system to a sudden increase in flow rate of A from 1 m3/h to 1.5 m3/h at time 0. You should start your simulation at steady state.\n",
    "\n",
    "Assume that the level in tank 3 is also 1 m at the initial conditions. Note that the steady state relationships between H, G, J and L will not hold over the whole simulation. Simply set them to their steady state values."
   ]
  },
  {
   "cell_type": "code",
   "execution_count": 19,
   "metadata": {},
   "outputs": [],
   "source": [
    "import scipy.integrate\n",
    "import numpy as np"
   ]
  },
  {
   "cell_type": "markdown",
   "metadata": {},
   "source": [
    "Our states will be the total masses and mass of X in each tank. Let's find the initial values at steady state first:"
   ]
  },
  {
   "cell_type": "markdown",
   "metadata": {},
   "source": [
    "Find volumes via tank geometry"
   ]
  },
  {
   "cell_type": "code",
   "execution_count": 20,
   "metadata": {},
   "outputs": [],
   "source": [
    "V1 = A1*h1\n",
    "V2 = A2*h2\n",
    "V3 = A3*h3"
   ]
  },
  {
   "cell_type": "markdown",
   "metadata": {},
   "source": [
    "Masses from volumes - assume ideal mixing"
   ]
  },
  {
   "cell_type": "code",
   "execution_count": 21,
   "metadata": {},
   "outputs": [],
   "source": [
    "M1 = V1/(x1/ρx + (1 - x1)/ρy)\n",
    "M2 = V2/(x2/ρx + (1 - x2)/ρy)\n",
    "M3 = V3/(x3/ρx + (1 - x3)/ρy)"
   ]
  },
  {
   "cell_type": "code",
   "execution_count": 22,
   "metadata": {},
   "outputs": [],
   "source": [
    "y0 = [M1, M2, M3, M1*x1, M2*x2, M3*x3]"
   ]
  },
  {
   "cell_type": "code",
   "execution_count": 23,
   "metadata": {},
   "outputs": [],
   "source": [
    "t = 0"
   ]
  },
  {
   "cell_type": "code",
   "execution_count": 24,
   "metadata": {},
   "outputs": [],
   "source": [
    "def dMdt(t, y):\n",
    "    M1, M2, M3, M1x1, M2x2, M3x3 = y\n",
    "\n",
    "    if t <= 0:\n",
    "        A = 1*ρx\n",
    "    else:\n",
    "        A = 1.5*ρx\n",
    "    \n",
    "    xD = x1 = M1x1/M1\n",
    "    xE = x2 = M2x2/M2\n",
    "    xF = x3 = M3x3/M3\n",
    "    \n",
    "    V1 = M1*(x1/ρx + (1 - x1)/ρy)\n",
    "    V2 = M2*(x2/ρx + (1 - x2)/ρy)\n",
    "    V3 = M3*(x3/ρx + (1 - x3)/ρy)\n",
    "\n",
    "    h1 = V1/A1\n",
    "    h2 = V2/A2\n",
    "    h3 = V3/A3\n",
    "\n",
    "    xH = xI = xJ = xK = xL = xG = x3\n",
    "    \n",
    "    D = k1*h1\n",
    "    E = k2*h2\n",
    "\n",
    "    dM1dt = A + L - D\n",
    "    dM2dt = B + D + K - E\n",
    "    dM3dt = C + E + I - F\n",
    "\n",
    "    dM1x1dt = xA*A + xL*L - xD*D\n",
    "    dM2x2dt = xB*B + xD*D + xK*K - xE*E\n",
    "    dM3x3dt = xC*C + xE*E + xI*I - xF*F\n",
    "\n",
    "    return dM1dt, dM2dt, dM3dt, dM1x1dt, dM2x2dt, dM3x3dt"
   ]
  },
  {
   "cell_type": "markdown",
   "metadata": {},
   "source": [
    "We expect t=0 to give zero derivatives"
   ]
  },
  {
   "cell_type": "code",
   "execution_count": 25,
   "metadata": {},
   "outputs": [
    {
     "data": {
      "text/plain": [
       "(0.0,\n",
       " 4.547473508864641e-13,\n",
       " 0.0,\n",
       " 0.0,\n",
       " 4.547473508864641e-13,\n",
       " -4.547473508864641e-13)"
      ]
     },
     "execution_count": 25,
     "metadata": {},
     "output_type": "execute_result"
    }
   ],
   "source": [
    "dMdt(0, y0)"
   ]
  },
  {
   "cell_type": "markdown",
   "metadata": {},
   "source": [
    "And for other times to give non-zero derivatives"
   ]
  },
  {
   "cell_type": "code",
   "execution_count": 26,
   "metadata": {},
   "outputs": [
    {
     "data": {
      "text/plain": [
       "(500.0,\n",
       " 4.547473508864641e-13,\n",
       " 0.0,\n",
       " 500.0,\n",
       " 4.547473508864641e-13,\n",
       " -4.547473508864641e-13)"
      ]
     },
     "execution_count": 26,
     "metadata": {},
     "output_type": "execute_result"
    }
   ],
   "source": [
    "dMdt(1, y0)"
   ]
  },
  {
   "cell_type": "code",
   "execution_count": 27,
   "metadata": {},
   "outputs": [],
   "source": [
    "t_smooth = np.linspace(0,10,101)\n",
    "sol = scipy.integrate.solve_ivp(dMdt, (0, 10), y0,t_eval=t_smooth)"
   ]
  },
  {
   "cell_type": "code",
   "execution_count": 28,
   "metadata": {},
   "outputs": [
    {
     "data": {
      "text/plain": [
       "  message: 'The solver successfully reached the end of the integration interval.'\n",
       "     nfev: 68\n",
       "     njev: 0\n",
       "      nlu: 0\n",
       "      sol: None\n",
       "   status: 0\n",
       "  success: True\n",
       "        t: array([ 0. ,  0.1,  0.2,  0.3,  0.4,  0.5,  0.6,  0.7,  0.8,  0.9,  1. ,\n",
       "        1.1,  1.2,  1.3,  1.4,  1.5,  1.6,  1.7,  1.8,  1.9,  2. ,  2.1,\n",
       "        2.2,  2.3,  2.4,  2.5,  2.6,  2.7,  2.8,  2.9,  3. ,  3.1,  3.2,\n",
       "        3.3,  3.4,  3.5,  3.6,  3.7,  3.8,  3.9,  4. ,  4.1,  4.2,  4.3,\n",
       "        4.4,  4.5,  4.6,  4.7,  4.8,  4.9,  5. ,  5.1,  5.2,  5.3,  5.4,\n",
       "        5.5,  5.6,  5.7,  5.8,  5.9,  6. ,  6.1,  6.2,  6.3,  6.4,  6.5,\n",
       "        6.6,  6.7,  6.8,  6.9,  7. ,  7.1,  7.2,  7.3,  7.4,  7.5,  7.6,\n",
       "        7.7,  7.8,  7.9,  8. ,  8.1,  8.2,  8.3,  8.4,  8.5,  8.6,  8.7,\n",
       "        8.8,  8.9,  9. ,  9.1,  9.2,  9.3,  9.4,  9.5,  9.6,  9.7,  9.8,\n",
       "        9.9, 10. ])\n",
       " t_events: None\n",
       "        y: array([[2828.57142857, 2877.21691661, 2923.2664313 , 2966.85288827,\n",
       "        3008.10413494, 3047.14322454, 3084.08841614, 3119.05317462,\n",
       "        3152.14617069, 3183.47128088, 3213.12632003, 3241.19861708,\n",
       "        3267.7710342 , 3292.92319518, 3316.73142651, 3339.26875732,\n",
       "        3360.60491946, 3380.80634746, 3399.93617851, 3418.05454981,\n",
       "        3435.21925712, 3451.47956891, 3466.8818261 , 3481.47072705,\n",
       "        3495.28932748, 3508.37904051, 3520.77963664, 3532.52924378,\n",
       "        3543.66434721, 3554.21978962, 3564.22877109, 3573.72284906,\n",
       "        3582.7328092 , 3591.28686384, 3599.40628632, 3607.11146159,\n",
       "        3614.42224306, 3621.35795263, 3627.93738066, 3634.17878598,\n",
       "        3640.09989589, 3645.71790617, 3651.04948107, 3656.1107533 ,\n",
       "        3660.91732406, 3665.48426301, 3669.82610828, 3673.95686648,\n",
       "        3677.89001268, 3681.63896637, 3685.21501124, 3688.62457123,\n",
       "        3691.87375859, 3694.96862789, 3697.91517597, 3700.71934198,\n",
       "        3703.38700736, 3705.92399583, 3708.3360734 , 3710.62894838,\n",
       "        3712.80827138, 3714.87963528, 3716.84857525, 3718.72056878,\n",
       "        3720.50103563, 3722.19533784, 3723.80877977, 3725.34660805,\n",
       "        3726.81401162, 3728.21612168, 3729.55801174, 3730.84469762,\n",
       "        3732.0811374 , 3733.27034969, 3734.40941067, 3735.4998503 ,\n",
       "        3736.54364004, 3737.54269643, 3738.49888115, 3739.41400096,\n",
       "        3740.28980775, 3741.12799851, 3741.93021535, 3742.69804548,\n",
       "        3743.43302122, 3744.13662002, 3744.8102644 , 3745.45532203,\n",
       "        3746.07310566, 3746.66487317, 3747.23182755, 3747.77511688,\n",
       "        3748.29583437, 3748.79501833, 3749.27365218, 3749.73266445,\n",
       "        3750.17292879, 3750.59526395, 3751.00043378, 3751.38914726,\n",
       "        3751.76206113],\n",
       "       [2657.14285714, 2658.44721233, 2662.06107156, 2667.637544  ,\n",
       "        2674.89626884, 2683.57351411, 2693.42217672, 2704.21178242,\n",
       "        2715.72848584, 2727.77507045, 2740.18031253, 2752.84291043,\n",
       "        2765.68482183, 2778.63081414, 2791.60864607, 2804.5490677 ,\n",
       "        2817.38582042, 2830.05563695, 2842.49824132, 2854.65603456,\n",
       "        2866.49175846, 2878.01094072, 2889.22147253, 2900.12828676,\n",
       "        2910.73335791, 2921.03570215, 2931.03137726, 2940.7134827 ,\n",
       "        2950.07215957, 2959.09459061, 2967.76500021, 2976.06465442,\n",
       "        2983.98091523, 2991.5434799 , 2998.77951936, 3005.71232444,\n",
       "        3012.36264767, 3018.74870335, 3024.88616746, 3030.78817771,\n",
       "        3036.46533355, 3041.92569615, 3047.17478837, 3052.21559484,\n",
       "        3057.04856188, 3061.67159754, 3066.08007161, 3070.26681556,\n",
       "        3074.22212264, 3077.94505412, 3081.47352355, 3084.82537622,\n",
       "        3088.01488346, 3091.05524335, 3093.9585807 , 3096.73594703,\n",
       "        3099.39732059, 3101.95160634, 3104.40663597, 3106.76916789,\n",
       "        3109.04488724, 3111.23840588, 3113.35326239, 3115.39192206,\n",
       "        3117.35577693, 3119.24514573, 3121.05927395, 3122.79633376,\n",
       "        3124.45342408, 3126.02657055, 3127.51072553, 3128.89976809,\n",
       "        3130.18650405, 3131.37349582, 3132.49596403, 3133.56234849,\n",
       "        3134.57783921, 3135.5472466 , 3136.4750014 , 3137.36515474,\n",
       "        3138.22137811, 3139.04696338, 3139.84482278, 3140.61748889,\n",
       "        3141.3671147 , 3142.09547352, 3142.80395906, 3143.4935854 ,\n",
       "        3144.16498696, 3144.81841855, 3145.45375535, 3146.07049289,\n",
       "        3146.66774709, 3147.24425422, 3147.79837093, 3148.32807422,\n",
       "        3148.83096149, 3149.30425047, 3149.74477929, 3150.14900643,\n",
       "        3150.51308613],\n",
       "       [2600.        , 2600.04559948, 2600.38222556, 2601.21929615,\n",
       "        2602.70932465, 2604.99298977, 2608.19913557, 2612.44477138,\n",
       "        2617.8350719 , 2624.46337709, 2632.40309587, 2641.66820091,\n",
       "        2652.25387239, 2664.1557191 , 2677.36965584, 2691.8919034 ,\n",
       "        2707.71898854, 2724.84774402, 2743.2753086 , 2762.99914405,\n",
       "        2783.99871283, 2806.2192188 , 2829.60642979, 2854.11071461,\n",
       "        2879.68704303, 2906.29498577, 2933.89871452, 2962.46700194,\n",
       "        2991.97322164, 3022.39534819, 3053.71595713, 3085.92222495,\n",
       "        3118.99600399, 3152.87938468, 3187.52392274, 3222.8859424 ,\n",
       "        3258.92483768, 3295.60307244, 3332.8861803 , 3370.74276473,\n",
       "        3409.14449898, 3448.0661261 , 3487.48545898, 3527.38338028,\n",
       "        3567.74384248, 3608.55386787, 3649.80354854, 3691.48604638,\n",
       "        3733.59759311, 3776.12570794, 3819.02119362, 3862.25978098,\n",
       "        3905.82108638, 3949.68585719, 3993.83597175, 4038.25443941,\n",
       "        4082.92540047, 4127.83412626, 4172.96701906, 4218.31161215,\n",
       "        4263.8565698 , 4309.59168726, 4355.50789078, 4401.59723758,\n",
       "        4447.85291587, 4494.26924485, 4540.84167471, 4587.56678661,\n",
       "        4634.44229273, 4681.4670362 , 4728.64099115, 4775.96526271,\n",
       "        4823.44208697, 4871.06588291, 4918.80435372, 4966.64752963,\n",
       "        5014.58824917, 5062.61978539, 5110.73584588, 5158.93057273,\n",
       "        5207.19854256, 5255.53476653, 5303.9346903 , 5352.39419405,\n",
       "        5400.9095925 , 5449.47763489, 5498.09550496, 5546.760821  ,\n",
       "        5595.4716358 , 5644.2264367 , 5693.02414552, 5741.86411865,\n",
       "        5790.74614696, 5839.67045587, 5888.63770532, 5937.64898975,\n",
       "        5986.70583814, 6035.810214  , 6084.96451535, 6134.17157473,\n",
       "        6183.43458116],\n",
       "       [2142.85714286, 2191.48347568, 2237.46072395, 2280.94057825,\n",
       "        2322.08694258, 2361.0481622 , 2397.95702364, 2432.93075464,\n",
       "        2466.07102424, 2497.46394268, 2527.20081964, 2555.411948  ,\n",
       "        2582.19148763, 2607.62575319, 2631.79518913, 2654.77436977,\n",
       "        2676.63199924, 2697.4309115 , 2717.22807037, 2736.07618306,\n",
       "        2754.03847862, 2771.16376508, 2787.49462339, 2803.07188717,\n",
       "        2817.93464269, 2832.12022893, 2845.66423751, 2858.60051271,\n",
       "        2870.96115151, 2882.77650355, 2894.07517112, 2904.88400921,\n",
       "        2915.2320509 , 2925.15156253, 2934.65770456, 2943.764573  ,\n",
       "        2952.48640066, 2960.83755717, 2968.83254899, 2976.48601939,\n",
       "        2983.81274847, 2990.82765312, 2997.54578708, 3003.9823409 ,\n",
       "        3010.15264194, 3016.07215438, 3021.75647923, 3027.22135431,\n",
       "        3032.48265426, 3037.55904071, 3042.46728311, 3047.20688003,\n",
       "        3051.77694586, 3056.17730614, 3060.40849753, 3064.47176783,\n",
       "        3068.36907597, 3072.10309202, 3075.67719719, 3079.09548381,\n",
       "        3082.36275537, 3085.48452647, 3088.46702287, 3091.31718144,\n",
       "        3094.0426502 , 3096.65178829, 3099.15366602, 3101.5580648 ,\n",
       "        3103.87547719, 3106.11710689, 3108.29486871, 3110.42138863,\n",
       "        3112.51000374, 3114.56647749, 3116.56898764, 3118.5132898 ,\n",
       "        3120.39756877, 3122.22035807, 3123.98053991, 3125.67734521,\n",
       "        3127.31035359, 3128.87949336, 3130.38504155, 3131.82762387,\n",
       "        3133.20821475, 3134.52813731, 3135.78906337, 3136.99301346,\n",
       "        3138.14235679, 3139.23981129, 3140.28844359, 3141.29166902,\n",
       "        3142.2532516 , 3143.17730406, 3144.06828782, 3144.93101303,\n",
       "        3145.77063851, 3146.59267178, 3147.40296909, 3148.20773536,\n",
       "        3149.01344238],\n",
       "       [1285.71428571, 1287.03408013, 1290.64847209, 1296.20820463,\n",
       "        1303.46142736, 1312.16103934, 1322.06468912, 1332.9347747 ,\n",
       "        1344.53844358, 1356.64759268, 1369.07655521, 1381.77846793,\n",
       "        1394.69266186, 1407.7550982 , 1420.90108255, 1434.06526483,\n",
       "        1447.18163933, 1460.1835447 , 1473.00366394, 1485.57555031,\n",
       "        1497.87256459, 1509.90535638, 1521.68211577, 1533.20738242,\n",
       "        1544.48204559, 1555.50334412, 1566.26486641, 1576.75655048,\n",
       "        1586.9646839 , 1596.87190385, 1606.45719707, 1615.6958999 ,\n",
       "        1624.57370361, 1633.12978288, 1641.38634933, 1649.36104153,\n",
       "        1657.06954265, 1664.5255805 , 1671.74092751, 1678.72540072,\n",
       "        1685.48686181, 1692.03121708, 1698.36241745, 1704.48245847,\n",
       "        1710.39138031, 1716.08726775, 1721.56625021, 1726.82250173,\n",
       "        1731.84824098, 1736.64807705, 1741.26765557, 1745.71742489,\n",
       "        1750.00400026, 1754.13374673, 1758.1127792 , 1761.9469624 ,\n",
       "        1765.6419109 , 1769.20298907, 1772.63531116, 1775.9437412 ,\n",
       "        1779.1328931 , 1782.20713057, 1785.17056716, 1788.02706624,\n",
       "        1790.78024105, 1793.43345462, 1795.98981983, 1798.45219939,\n",
       "        1800.82320584, 1803.10520155, 1805.30029873, 1807.41035942,\n",
       "        1809.43699548, 1811.38591206, 1813.27297356, 1815.09990103,\n",
       "        1816.86722371, 1818.57557276, 1820.22568126, 1821.81838427,\n",
       "        1823.35461873, 1824.83542354, 1826.26193955, 1827.6354095 ,\n",
       "        1828.9571781 , 1830.22869199, 1831.45149972, 1832.6272518 ,\n",
       "        1833.75770066, 1834.84470067, 1835.89020811, 1836.89628124,\n",
       "        1837.86508022, 1838.79886714, 1839.70000604, 1840.57096289,\n",
       "        1841.4143056 , 1842.23270398, 1843.02892983, 1843.80585683,\n",
       "        1844.56643364],\n",
       "       [1000.        , 1000.04898185, 1000.51326538, 1001.53598737,\n",
       "        1003.09572711, 1005.21223008, 1007.94640792, 1011.40033845,\n",
       "        1015.71726564, 1021.08159965, 1027.59550276, 1035.03190057,\n",
       "        1043.3036486 , 1052.34993842, 1062.12571336, 1072.60166845,\n",
       "        1083.76425045, 1095.61565786, 1108.17384091, 1121.46544324,\n",
       "        1135.4273699 , 1149.98755185, 1165.09357688, 1180.70045186,\n",
       "        1196.77060278, 1213.2738747 , 1230.18753179, 1247.49625731,\n",
       "        1265.19215361, 1283.27474213, 1301.75096343, 1320.63517713,\n",
       "        1339.92073038, 1359.52085132, 1379.41341838, 1399.58355608,\n",
       "        1420.01711903, 1440.70069187, 1461.62158936, 1482.76785629,\n",
       "        1504.12826752, 1525.692328  , 1547.45027274, 1569.39306681,\n",
       "        1591.51240535, 1613.80071358, 1636.25114678, 1658.85759031,\n",
       "        1681.61465957, 1704.49516651, 1727.42868505, 1750.42467807,\n",
       "        1773.49724191, 1796.65845981, 1819.91840187, 1843.28512507,\n",
       "        1866.76467328, 1890.36107722, 1914.07635451, 1937.91050961,\n",
       "        1961.8615339 , 1985.9254056 , 2010.09608982, 2034.36553854,\n",
       "        2058.72369063, 2083.1584718 , 2107.65579468, 2132.19955875,\n",
       "        2156.77165036, 2181.35194275, 2205.91829602, 2230.44655716,\n",
       "        2254.91056003, 2279.29918902, 2303.66111108, 2328.0124036 ,\n",
       "        2352.36388173, 2376.72522496, 2401.10497709, 2425.51054628,\n",
       "        2449.94820502, 2474.42309012, 2498.93920276, 2523.49940841,\n",
       "        2548.10543691, 2572.75788243, 2597.45620347, 2622.19872286,\n",
       "        2646.98262778, 2671.80396974, 2696.65766459, 2721.53749249,\n",
       "        2746.43609798, 2771.34498989, 2796.25454143, 2821.15399011,\n",
       "        2846.03143779, 2870.87385068, 2895.66705929, 2920.39575849,\n",
       "        2945.04374286]])\n",
       " y_events: None"
      ]
     },
     "execution_count": 28,
     "metadata": {},
     "output_type": "execute_result"
    }
   ],
   "source": [
    "sol"
   ]
  },
  {
   "cell_type": "markdown",
   "metadata": {},
   "source": [
    "Plot the composition of stream G as well as the compositions and levels in all three tanks."
   ]
  },
  {
   "cell_type": "code",
   "execution_count": 29,
   "metadata": {},
   "outputs": [],
   "source": [
    "import matplotlib.pyplot as plt\n",
    "%matplotlib inline"
   ]
  },
  {
   "cell_type": "code",
   "execution_count": 30,
   "metadata": {},
   "outputs": [],
   "source": [
    "M1, M2, M3, M1x1, M2x2, M3x3 = sol.y\n",
    "tspan = sol.t"
   ]
  },
  {
   "cell_type": "code",
   "execution_count": 31,
   "metadata": {},
   "outputs": [
    {
     "data": {
      "image/png": "[encoded data removed]",
      "text/plain": [
       "<Figure size 432x288 with 1 Axes>"
      ]
     },
     "metadata": {
      "needs_background": "light"
     },
     "output_type": "display_data"
    },
    {
     "data": {
      "image/png": "[encoded data removed]",
      "text/plain": [
       "<Figure size 432x288 with 1 Axes>"
      ]
     },
     "metadata": {
      "needs_background": "light"
     },
     "output_type": "display_data"
    },
    {
     "data": {
      "image/png": "[encoded data removed]",
      "text/plain": [
       "<Figure size 432x288 with 1 Axes>"
      ]
     },
     "metadata": {
      "needs_background": "light"
     },
     "output_type": "display_data"
    }
   ],
   "source": [
    "x1 = M1x1/M1\n",
    "x2 = M2x2/M2\n",
    "x3 = M3x3/M3\n",
    "\n",
    "V1 = M1 * (x1/ρx + (1 - x1)/ρy)\n",
    "V2 = M2 * (x2/ρx + (1 - x2)/ρy)\n",
    "V3 = M3 * (x3/ρx + (1 - x3)/ρy)\n",
    "\n",
    "h1 = V1/A1\n",
    "h2 = V2/A2\n",
    "h3 = V3/A3\n",
    "\n",
    "plt.title('Height')\n",
    "plt.plot(tspan,h1,label = 'h1')\n",
    "plt.plot(tspan,h2,label = 'h2')\n",
    "plt.plot(tspan,h3,label = 'h3')\n",
    "plt.legend()\n",
    "plt.show()\n",
    "\n",
    "plt.title('Concentration')\n",
    "plt.plot(tspan,x1,label = 'x1')\n",
    "plt.plot(tspan,x2,label = 'x2')\n",
    "plt.plot(tspan,x3,label = 'x3')\n",
    "plt.legend()\n",
    "plt.show()\n",
    "\n",
    "plt.title('Mass')\n",
    "plt.plot(tspan,M1,label = 'M1')\n",
    "plt.plot(tspan,M2,label = 'M2')\n",
    "plt.plot(tspan,M3,label = 'M3')\n",
    "plt.legend()\n",
    "plt.show()"
   ]
  }
 ],
 "metadata": {
  "kernelspec": {
   "display_name": "Python 3",
   "language": "python",
   "name": "python3"
  },
  "language_info": {
   "codemirror_mode": {
    "name": "ipython",
    "version": 3
   },
   "file_extension": ".py",
   "mimetype": "text/x-python",
   "name": "python",
   "nbconvert_exporter": "python",
   "pygments_lexer": "ipython3",
   "version": "3.7.7"
  }
 },
 "nbformat": 4,
 "nbformat_minor": 4
}
