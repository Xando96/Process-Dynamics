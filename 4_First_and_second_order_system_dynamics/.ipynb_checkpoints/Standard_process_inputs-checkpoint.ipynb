{
 "cells": [
  {
   "cell_type": "markdown",
   "metadata": {},
   "source": [
    "Standard process inputs\n",
    "============"
   ]
  },
  {
   "cell_type": "code",
   "execution_count": 1,
   "metadata": {},
   "outputs": [],
   "source": [
    "import sympy\n",
    "import matplotlib.pyplot as plt\n",
    "sympy.init_printing()\n",
    "%matplotlib inline"
   ]
  },
  {
   "cell_type": "markdown",
   "metadata": {},
   "source": [
    "## Step\n",
    "\n",
    "A step input of magnitude $M$ can be written as\n",
    "$$u_S(t)=\\begin{cases}\n",
    "    0&  t<0,\\\\\n",
    "    M&  t\\geq 0\n",
    "\\end{cases}$$\n",
    "\n",
    "Sympy supplies a unit step function called `Heaviside`, which is typeset as $\\theta(t)$"
   ]
  },
  {
   "cell_type": "code",
   "execution_count": 2,
   "metadata": {},
   "outputs": [],
   "source": [
    "t = sympy.symbols('t')"
   ]
  },
  {
   "cell_type": "code",
   "execution_count": 3,
   "metadata": {},
   "outputs": [],
   "source": [
    "S = sympy.Heaviside"
   ]
  },
  {
   "cell_type": "code",
   "execution_count": 4,
   "metadata": {},
   "outputs": [],
   "source": [
    "M = 2"
   ]
  },
  {
   "cell_type": "code",
   "execution_count": 5,
   "metadata": {},
   "outputs": [
    {
     "data": {
      "image/png": "[encoded data removed]",
      "text/plain": [
       "<Figure size 432x288 with 1 Axes>"
      ]
     },
     "metadata": {
      "needs_background": "light"
     },
     "output_type": "display_data"
    },
    {
     "data": {
      "text/plain": [
       "<sympy.plotting.plot.Plot at 0x1ba85da8ac8>"
      ]
     },
     "execution_count": 5,
     "metadata": {},
     "output_type": "execute_result"
    }
   ],
   "source": [
    "sympy.plot(M*S(t))"
   ]
  },
  {
   "cell_type": "markdown",
   "metadata": {},
   "source": [
    "## Laplace transform"
   ]
  },
  {
   "cell_type": "markdown",
   "metadata": {},
   "source": [
    "Sympy can calculate laplace transforms of the step easily:"
   ]
  },
  {
   "cell_type": "code",
   "execution_count": 6,
   "metadata": {},
   "outputs": [],
   "source": [
    "M, s = sympy.symbols('M, s')"
   ]
  },
  {
   "cell_type": "code",
   "execution_count": 7,
   "metadata": {},
   "outputs": [],
   "source": [
    "def L(f):\n",
    "    return sympy.laplace_transform(f, t, s, noconds=True)\n",
    "def invL(F):\n",
    "    return sympy.inverse_laplace_transform(F, s, t)"
   ]
  },
  {
   "cell_type": "code",
   "execution_count": 8,
   "metadata": {},
   "outputs": [
    {
     "data": {
      "image/png": "[encoded data removed]",
      "text/latex": [
       "$\\displaystyle \\frac{M}{s}$"
      ],
      "text/plain": [
       "M\n",
       "─\n",
       "s"
      ]
     },
     "execution_count": 8,
     "metadata": {},
     "output_type": "execute_result"
    }
   ],
   "source": [
    "L(M*S(t))"
   ]
  },
  {
   "cell_type": "markdown",
   "metadata": {},
   "source": [
    "## Scaling and translation"
   ]
  },
  {
   "cell_type": "markdown",
   "metadata": {},
   "source": [
    "We can scale and translate the step function in the normal way. Notice that how the time translation is handled."
   ]
  },
  {
   "cell_type": "code",
   "execution_count": 9,
   "metadata": {},
   "outputs": [],
   "source": [
    "from ipywidgets import interact"
   ]
  },
  {
   "cell_type": "code",
   "execution_count": 10,
   "metadata": {},
   "outputs": [],
   "source": [
    "def translated_step(scale, y_translation, t_translation):\n",
    "    f = scale*S(t - t_translation) + y_translation\n",
    "    print(\"f =\", f, \"  \\u2112(f) =\", L(f))\n",
    "    sympy.plot(f, (t, -10, 10), ylim=(-2, 4))"
   ]
  },
  {
   "cell_type": "code",
   "execution_count": 11,
   "metadata": {},
   "outputs": [
    {
     "data": {
      "application/vnd.jupyter.widget-view+json": {
       "model_id": "21c1a304a95741b8b04638ca469dba0c",
       "version_major": 2,
       "version_minor": 0
      },
      "text/plain": [
       "interactive(children=(FloatSlider(value=1.75, description='scale', max=3.0, min=0.5), FloatSlider(value=0.0, d…"
      ]
     },
     "metadata": {},
     "output_type": "display_data"
    }
   ],
   "source": [
    "interact(translated_step, \n",
    "         scale=(0.5, 3.), \n",
    "         y_translation=(-1., 1.), \n",
    "         t_translation=(0., 5.));"
   ]
  },
  {
   "cell_type": "markdown",
   "metadata": {},
   "source": [
    "## Rectangular pulse\n",
    "\n",
    "It is now easy to see how we can construct a rectangular pulse, of height $h$ and width $t_w$,\n",
    "\n",
    "$$u_{RP}(t)=\\begin{cases}\n",
    "    0&  t<0,\\\\\n",
    "    h& 0 \\leq t < t_w\\\\\n",
    "    0&  t \\geq t_w\n",
    "\\end{cases}$$\n",
    "\n",
    "by using shifted versions of the step, so that"
   ]
  },
  {
   "cell_type": "code",
   "execution_count": 12,
   "metadata": {},
   "outputs": [],
   "source": [
    "h, t_w = sympy.symbols('h, t_w')\n",
    "u_RP = h*(S(t - 0) - S(t - t_w))"
   ]
  },
  {
   "cell_type": "code",
   "execution_count": 13,
   "metadata": {},
   "outputs": [
    {
     "data": {
      "image/png": "[encoded data removed]",
      "text/plain": [
       "<Figure size 432x288 with 1 Axes>"
      ]
     },
     "metadata": {
      "needs_background": "light"
     },
     "output_type": "display_data"
    }
   ],
   "source": [
    "sympy.plot(u_RP.subs({h: 1, t_w: 2}), (t, -1, 3));"
   ]
  },
  {
   "cell_type": "code",
   "execution_count": 14,
   "metadata": {},
   "outputs": [
    {
     "data": {
      "image/png": "[encoded data removed]",
      "text/latex": [
       "$\\displaystyle \\frac{h}{s} - \\frac{h e^{- s t_{w}}}{s}$"
      ],
      "text/plain": [
       "       -s⋅t_w\n",
       "h   h⋅ℯ      \n",
       "─ - ─────────\n",
       "s       s    "
      ]
     },
     "execution_count": 14,
     "metadata": {},
     "output_type": "execute_result"
    }
   ],
   "source": [
    "L(u_RP)"
   ]
  },
  {
   "cell_type": "markdown",
   "metadata": {},
   "source": [
    "### Arbitrary piecewise constant functions"
   ]
  },
  {
   "cell_type": "markdown",
   "metadata": {},
   "source": [
    "We can constuct any piecewise constant function by adding together step functions shifted in time. As an example, we can take the function represented below:"
   ]
  },
  {
   "cell_type": "code",
   "execution_count": 15,
   "metadata": {},
   "outputs": [],
   "source": [
    "x = [-1, 0, 0, 1, 1, 2, 2, 3]\n",
    "y = [0, 0, 1, 1, 2, 2, 0, 0]"
   ]
  },
  {
   "cell_type": "code",
   "execution_count": 16,
   "metadata": {},
   "outputs": [
    {
     "data": {
      "text/plain": [
       "Text(2, 0.1, '$D_3=2$')"
      ]
     },
     "execution_count": 16,
     "metadata": {},
     "output_type": "execute_result"
    },
    {
     "data": {
      "image/png": "[encoded data removed]",
      "text/plain": [
       "<Figure size 432x288 with 1 Axes>"
      ]
     },
     "metadata": {
      "needs_background": "light"
     },
     "output_type": "display_data"
    }
   ],
   "source": [
    "plt.plot(x, y)\n",
    "plt.text(0, 0.5, r'$\\Delta_1=1$')\n",
    "plt.text(1, 1.5, r'$\\Delta_2=1$')\n",
    "plt.text(2, 1, r'$\\Delta_3=-2$')\n",
    "\n",
    "plt.text(0, 0.1, r'$D_1=0$')\n",
    "plt.text(1, 0.1, r'$D_2=1$')\n",
    "plt.text(2, 0.1, r'$D_3=2$')"
   ]
  },
  {
   "cell_type": "markdown",
   "metadata": {},
   "source": [
    "In general piecewise constant functions like the one above can be written as \n",
    "\n",
    "$$f_c(t) = \\sum_{i=1}^{N_d} \\Delta_i S(t - D_i)$$\n",
    "\n",
    "where $S$ is the unit step. We calculate $\\Delta_i$ as the difference between the values at the discontinuities, positive if the function is rising and negative if it is falling. $D_i$ is the time at which the value changes and $N_d$ is the number of discontinuities."
   ]
  },
  {
   "cell_type": "markdown",
   "metadata": {},
   "source": [
    "We can apply this directly for the example function."
   ]
  },
  {
   "cell_type": "code",
   "execution_count": 17,
   "metadata": {},
   "outputs": [
    {
     "data": {
      "image/png": "[encoded data removed]",
      "text/latex": [
       "$\\displaystyle \\theta\\left(t\\right) - 2 \\theta\\left(t - 2\\right) + \\theta\\left(t - 1\\right)$"
      ],
      "text/plain": [
       "θ(t) - 2⋅θ(t - 2) + θ(t - 1)"
      ]
     },
     "execution_count": 17,
     "metadata": {},
     "output_type": "execute_result"
    }
   ],
   "source": [
    "f = 1*S(t) + 1*S(t-1) - 2*S(t-2)\n",
    "f"
   ]
  },
  {
   "cell_type": "markdown",
   "metadata": {},
   "source": [
    "Or a little more generally using some code:"
   ]
  },
  {
   "cell_type": "code",
   "execution_count": 18,
   "metadata": {},
   "outputs": [],
   "source": [
    "Delta = [1, 1, -2]\n",
    "D = [0, 1, 2]\n",
    "Nd = len(Delta)"
   ]
  },
  {
   "cell_type": "code",
   "execution_count": 19,
   "metadata": {},
   "outputs": [],
   "source": [
    "f = sum(Delta[i]*S(t - D[i]) for i in range(Nd))"
   ]
  },
  {
   "cell_type": "code",
   "execution_count": 20,
   "metadata": {},
   "outputs": [
    {
     "data": {
      "image/png": "[encoded data removed]",
      "text/latex": [
       "$\\displaystyle \\theta\\left(t\\right) - 2 \\theta\\left(t - 2\\right) + \\theta\\left(t - 1\\right)$"
      ],
      "text/plain": [
       "θ(t) - 2⋅θ(t - 2) + θ(t - 1)"
      ]
     },
     "execution_count": 20,
     "metadata": {},
     "output_type": "execute_result"
    }
   ],
   "source": [
    "f"
   ]
  },
  {
   "cell_type": "markdown",
   "metadata": {},
   "source": [
    "Let's verify it works properly:"
   ]
  },
  {
   "cell_type": "code",
   "execution_count": 21,
   "metadata": {},
   "outputs": [
    {
     "data": {
      "image/png": "[encoded data removed]",
      "text/plain": [
       "<Figure size 432x288 with 1 Axes>"
      ]
     },
     "metadata": {
      "needs_background": "light"
     },
     "output_type": "display_data"
    }
   ],
   "source": [
    "sympy.plot(f, (t, -1, 3));"
   ]
  },
  {
   "cell_type": "code",
   "execution_count": 22,
   "metadata": {},
   "outputs": [
    {
     "data": {
      "image/png": "[encoded data removed]",
      "text/latex": [
       "$\\displaystyle \\frac{1}{s} + \\frac{e^{- s}}{s} - \\frac{2 e^{- 2 s}}{s}$"
      ],
      "text/plain": [
       "     -s      -2⋅s\n",
       "1   ℯ     2⋅ℯ    \n",
       "─ + ─── - ───────\n",
       "s    s       s   "
      ]
     },
     "execution_count": 22,
     "metadata": {},
     "output_type": "execute_result"
    }
   ],
   "source": [
    "sympy.expand(L(f))"
   ]
  },
  {
   "cell_type": "markdown",
   "metadata": {},
   "source": [
    "## Ramp"
   ]
  },
  {
   "cell_type": "markdown",
   "metadata": {},
   "source": [
    "A ramp with slope $a$ can be written as\n",
    "\n",
    "$$u_R(t)=\\begin{cases}\n",
    "    0&  t<0,\\\\\n",
    "    a&  t\\geq 0\n",
    "\\end{cases}$$\n",
    "\n",
    "We can construct a unit ($a=1$) ramp by simply multiplying the unit step by $t$"
   ]
  },
  {
   "cell_type": "code",
   "execution_count": 23,
   "metadata": {},
   "outputs": [],
   "source": [
    "def R(t):\n",
    "    return t*S(t)"
   ]
  },
  {
   "cell_type": "code",
   "execution_count": 24,
   "metadata": {},
   "outputs": [
    {
     "data": {
      "image/png": "[encoded data removed]",
      "text/plain": [
       "<Figure size 432x288 with 1 Axes>"
      ]
     },
     "metadata": {
      "needs_background": "light"
     },
     "output_type": "display_data"
    },
    {
     "data": {
      "text/plain": [
       "<sympy.plotting.plot.Plot at 0x1ba87457ac8>"
      ]
     },
     "execution_count": 24,
     "metadata": {},
     "output_type": "execute_result"
    }
   ],
   "source": [
    "sympy.plot(R(t))"
   ]
  },
  {
   "cell_type": "code",
   "execution_count": 25,
   "metadata": {},
   "outputs": [
    {
     "data": {
      "image/png": "[encoded data removed]",
      "text/latex": [
       "$\\displaystyle \\frac{1}{s^{2}}$"
      ],
      "text/plain": [
       "1 \n",
       "──\n",
       " 2\n",
       "s "
      ]
     },
     "execution_count": 25,
     "metadata": {},
     "output_type": "execute_result"
    }
   ],
   "source": [
    "L(R(t))"
   ]
  },
  {
   "cell_type": "markdown",
   "metadata": {},
   "source": [
    "## Continuous piecewise linear functions\n",
    "\n",
    "We can build any continuous piecewise linear function by using shifted and scaled ramps.\n",
    "\n",
    "$$f(t) = \\sum_{i=1}^{N_s} \\Delta m_i R(t - D_{s,i})$$\n",
    "\n",
    "This time $\\Delta m_i$ represents changes in slopes ($m=\\frac{\\Delta y}{\\Delta x}$). $D_{s,i}$ are the times at which the slopes change and $N_s$ is the number of slope changes.\n",
    "\n",
    "For instance, we can construct a triangular pulse by adding three ramps together."
   ]
  },
  {
   "cell_type": "code",
   "execution_count": 26,
   "metadata": {},
   "outputs": [],
   "source": [
    "r1 = t*S(t - 0)\n",
    "r2 = -2*(t - t_w/2)*S(t - t_w/2)\n",
    "r3 = (t - t_w)*S(t - t_w)\n",
    "u_TP = (r1 + r2 + r3)"
   ]
  },
  {
   "cell_type": "code",
   "execution_count": 27,
   "metadata": {},
   "outputs": [
    {
     "data": {
      "image/png": "[encoded data removed]",
      "text/latex": [
       "$\\displaystyle t \\theta\\left(t\\right) + \\left(- 2 t + t_{w}\\right) \\theta\\left(t - \\frac{t_{w}}{2}\\right) + \\left(t - t_{w}\\right) \\theta\\left(t - t_{w}\\right)$"
      ],
      "text/plain": [
       "                       ⎛    t_w⎞                       \n",
       "t⋅θ(t) + (-2⋅t + t_w)⋅θ⎜t - ───⎟ + (t - t_w)⋅θ(t - t_w)\n",
       "                       ⎝     2 ⎠                       "
      ]
     },
     "execution_count": 27,
     "metadata": {},
     "output_type": "execute_result"
    }
   ],
   "source": [
    "u_TP"
   ]
  },
  {
   "cell_type": "code",
   "execution_count": 28,
   "metadata": {},
   "outputs": [
    {
     "data": {
      "image/png": "[encoded data removed]",
      "text/plain": [
       "<Figure size 432x288 with 1 Axes>"
      ]
     },
     "metadata": {
      "needs_background": "light"
     },
     "output_type": "display_data"
    },
    {
     "data": {
      "text/plain": [
       "<sympy.plotting.plot.Plot at 0x1ba8747fa88>"
      ]
     },
     "execution_count": 28,
     "metadata": {},
     "output_type": "execute_result"
    }
   ],
   "source": [
    "sympy.plot(u_TP.subs({t_w: 2}), (t, -1, 4))"
   ]
  },
  {
   "cell_type": "code",
   "execution_count": 29,
   "metadata": {},
   "outputs": [
    {
     "data": {
      "image/png": "[encoded data removed]",
      "text/latex": [
       "$\\displaystyle \\frac{1}{s^{2}} - \\frac{2 e^{- s}}{s^{2}} + \\frac{e^{- 2 s}}{s^{2}}$"
      ],
      "text/plain": [
       "        -s    -2⋅s\n",
       "1    2⋅ℯ     ℯ    \n",
       "── - ───── + ─────\n",
       " 2      2       2 \n",
       "s      s       s  "
      ]
     },
     "execution_count": 29,
     "metadata": {},
     "output_type": "execute_result"
    }
   ],
   "source": [
    "L(u_TP.subs({t_w: 2})).expand()"
   ]
  },
  {
   "cell_type": "markdown",
   "metadata": {},
   "source": [
    "Notice that there are three ramps here (one may have expected only two). It becomes more clear when we think about the derivative of this function:"
   ]
  },
  {
   "cell_type": "code",
   "execution_count": 30,
   "metadata": {},
   "outputs": [
    {
     "data": {
      "image/png": "[encoded data removed]",
      "text/plain": [
       "<Figure size 432x288 with 1 Axes>"
      ]
     },
     "metadata": {
      "needs_background": "light"
     },
     "output_type": "display_data"
    },
    {
     "data": {
      "text/plain": [
       "<sympy.plotting.plot.Plot at 0x1ba872d6c88>"
      ]
     },
     "execution_count": 30,
     "metadata": {},
     "output_type": "execute_result"
    }
   ],
   "source": [
    "sympy.plot(u_TP.diff(t).subs({t_w: 2}), (t, -1, 4), ylim=(-1.1, 1.1))"
   ]
  },
  {
   "cell_type": "markdown",
   "metadata": {},
   "source": [
    "We now see that the derivative of a piecewise linear continuous function is a piecewise constant function. We can apply our rule for piecewise constant functions and integrate the steps to ramps:"
   ]
  },
  {
   "cell_type": "code",
   "execution_count": 31,
   "metadata": {},
   "outputs": [],
   "source": [
    "derivative = 1*S(t-0) - 2*S(t-1) + 1*S(t-2)"
   ]
  },
  {
   "cell_type": "code",
   "execution_count": 32,
   "metadata": {},
   "outputs": [],
   "source": [
    "final = 1*R(t-0) - 2*R(t-1) + 1*R(t-2)"
   ]
  },
  {
   "cell_type": "markdown",
   "metadata": {},
   "source": [
    "## Arbitrary piecewise linear functions"
   ]
  },
  {
   "cell_type": "markdown",
   "metadata": {},
   "source": [
    "We can construct any piecewise linear function by adding together ramp functions and steps shifted in time. The general rule now becomes\n",
    "\n",
    "$$f(t) = \\underbrace{\\sum_{i=1}^{N_s} \\Delta m_i R(t - D_{s,i})}_\\text{slope changes} +  \\underbrace{\\sum_{i=1}^{N_d} \\Delta_i S(t - D_i)}_\\text{discontinuities}$$\n",
    "\n"
   ]
  },
  {
   "cell_type": "code",
   "execution_count": 33,
   "metadata": {},
   "outputs": [],
   "source": [
    "x = [-1, 0, 2, 2, 3, 4, 5]\n",
    "y = [0, 0, 1, 2, 2, 0, 0]"
   ]
  },
  {
   "cell_type": "code",
   "execution_count": 34,
   "metadata": {},
   "outputs": [
    {
     "data": {
      "text/plain": [
       "[<matplotlib.lines.Line2D at 0x1ba8722d948>]"
      ]
     },
     "execution_count": 34,
     "metadata": {},
     "output_type": "execute_result"
    },
    {
     "data": {
      "image/png": "[encoded data removed]",
      "text/plain": [
       "<Figure size 432x288 with 1 Axes>"
      ]
     },
     "metadata": {
      "needs_background": "light"
     },
     "output_type": "display_data"
    }
   ],
   "source": [
    "plt.plot(x, y)"
   ]
  },
  {
   "cell_type": "markdown",
   "metadata": {},
   "source": [
    "We see that there are 4 slope changes (at t=0, t=2, t=3 and t=4) and 1 discontinuity. Applying our formula yields:"
   ]
  },
  {
   "cell_type": "code",
   "execution_count": 35,
   "metadata": {},
   "outputs": [],
   "source": [
    "g = 0.5*R(t) - 0.5*R(t-2) - 2*R(t-3) + 2*R(t - 4) + S(t - 2)"
   ]
  },
  {
   "cell_type": "code",
   "execution_count": 36,
   "metadata": {},
   "outputs": [
    {
     "data": {
      "image/png": "[encoded data removed]",
      "text/plain": [
       "<Figure size 432x288 with 1 Axes>"
      ]
     },
     "metadata": {
      "needs_background": "light"
     },
     "output_type": "display_data"
    }
   ],
   "source": [
    "sympy.plot(g, (t, -1, 5));"
   ]
  },
  {
   "cell_type": "code",
   "execution_count": 37,
   "metadata": {},
   "outputs": [
    {
     "data": {
      "image/png": "[encoded data removed]",
      "text/latex": [
       "$\\displaystyle \\frac{1.0 e^{- 2 s}}{s} + \\frac{0.5}{s^{2}} - \\frac{0.5 e^{- 2 s}}{s^{2}} - \\frac{2.0 e^{- 3 s}}{s^{2}} + \\frac{2.0 e^{- 4 s}}{s^{2}}$"
      ],
      "text/plain": [
       "     -2⋅s              -2⋅s        -3⋅s        -4⋅s\n",
       "1.0⋅ℯ       0.5   0.5⋅ℯ       2.0⋅ℯ       2.0⋅ℯ    \n",
       "───────── + ─── - ───────── - ───────── + ─────────\n",
       "    s         2        2           2           2   \n",
       "             s        s           s           s    "
      ]
     },
     "execution_count": 37,
     "metadata": {},
     "output_type": "execute_result"
    }
   ],
   "source": [
    "sympy.expand(L(g))"
   ]
  },
  {
   "cell_type": "code",
   "execution_count": 39,
   "metadata": {},
   "outputs": [],
   "source": [
    "import scipy.signal"
   ]
  },
  {
   "cell_type": "code",
   "execution_count": null,
   "metadata": {},
   "outputs": [],
   "source": []
  }
 ],
 "metadata": {
  "anaconda-cloud": {},
  "kernelspec": {
   "display_name": "Python 3",
   "language": "python",
   "name": "python3"
  },
  "language_info": {
   "codemirror_mode": {
    "name": "ipython",
    "version": 3
   },
   "file_extension": ".py",
   "mimetype": "text/x-python",
   "name": "python",
   "nbconvert_exporter": "python",
   "pygments_lexer": "ipython3",
   "version": "3.7.7"
  }
 },
 "nbformat": 4,
 "nbformat_minor": 4
}
