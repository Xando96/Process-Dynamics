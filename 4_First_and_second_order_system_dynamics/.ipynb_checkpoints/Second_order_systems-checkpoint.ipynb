{
 "cells": [
  {
   "cell_type": "code",
   "execution_count": 1,
   "metadata": {},
   "outputs": [],
   "source": [
    "import sympy\n",
    "import matplotlib.pyplot as plt\n",
    "import numpy as np\n",
    "sympy.init_printing()\n",
    "%matplotlib inline"
   ]
  },
  {
   "cell_type": "code",
   "execution_count": 2,
   "metadata": {},
   "outputs": [],
   "source": [
    "tau, zeta, t, w, K = sympy.symbols('tau, zeta, t, w, K', real=True, positive=True)\n",
    "s = sympy.Symbol('s')"
   ]
  },
  {
   "cell_type": "code",
   "execution_count": 3,
   "metadata": {},
   "outputs": [],
   "source": [
    "def L(f):\n",
    "    return sympy.laplace_transform(f, t, s, noconds=True)\n",
    "def invL(F):\n",
    "    return sympy.inverse_laplace_transform(F, s, t)"
   ]
  },
  {
   "cell_type": "markdown",
   "metadata": {},
   "source": [
    "This is the standard form for the second order system transfer function"
   ]
  },
  {
   "cell_type": "code",
   "execution_count": 4,
   "metadata": {},
   "outputs": [
    {
     "data": {
      "image/png": "[encoded data removed]",
      "text/latex": [
       "$\\displaystyle \\frac{K}{s^{2} \\tau^{2} + 2 s \\tau \\zeta + 1}$"
      ],
      "text/plain": [
       "         K         \n",
       "───────────────────\n",
       " 2  2              \n",
       "s ⋅τ  + 2⋅s⋅τ⋅ζ + 1"
      ]
     },
     "execution_count": 4,
     "metadata": {},
     "output_type": "execute_result"
    }
   ],
   "source": [
    "G = K/(tau**2*s**2 + 2*tau*zeta*s + 1)\n",
    "G"
   ]
  },
  {
   "cell_type": "markdown",
   "metadata": {},
   "source": [
    "In recent versions of Sympy, we can solve for the step response directly."
   ]
  },
  {
   "cell_type": "code",
   "execution_count": 5,
   "metadata": {},
   "outputs": [
    {
     "data": {
      "text/plain": [
       "'1.5.1'"
      ]
     },
     "execution_count": 5,
     "metadata": {},
     "output_type": "execute_result"
    }
   ],
   "source": [
    "sympy.__version__"
   ]
  },
  {
   "cell_type": "code",
   "execution_count": 6,
   "metadata": {},
   "outputs": [],
   "source": [
    "H = invL(G/s)"
   ]
  },
  {
   "cell_type": "markdown",
   "metadata": {},
   "source": [
    "That's a really hairy expression, so let's try to simplify."
   ]
  },
  {
   "cell_type": "code",
   "execution_count": 7,
   "metadata": {},
   "outputs": [
    {
     "data": {
      "image/png": "[encoded data removed]",
      "text/latex": [
       "$\\displaystyle - \\frac{K \\left(i \\zeta e^{\\frac{2 t \\sqrt{\\zeta + 1} \\cos{\\left(\\frac{\\operatorname{atan_{2}}{\\left(0,\\zeta - 1 \\right)}}{2} \\right)} \\sqrt{\\left|{\\zeta - 1}\\right|}}{\\tau}} \\sin{\\left(\\frac{t \\sqrt{\\zeta + 1} \\sin{\\left(\\frac{\\operatorname{atan_{2}}{\\left(0,\\zeta - 1 \\right)}}{2} \\right)} \\sqrt{\\left|{\\zeta - 1}\\right|}}{\\tau} \\right)} + \\zeta e^{\\frac{2 t \\sqrt{\\zeta + 1} \\cos{\\left(\\frac{\\operatorname{atan_{2}}{\\left(0,\\zeta - 1 \\right)}}{2} \\right)} \\sqrt{\\left|{\\zeta - 1}\\right|}}{\\tau}} \\cos{\\left(\\frac{t \\sqrt{\\zeta + 1} \\sin{\\left(\\frac{\\operatorname{atan_{2}}{\\left(0,\\zeta - 1 \\right)}}{2} \\right)} \\sqrt{\\left|{\\zeta - 1}\\right|}}{\\tau} \\right)} + i \\zeta \\sin{\\left(\\frac{t \\sqrt{\\zeta + 1} \\sin{\\left(\\frac{\\operatorname{atan_{2}}{\\left(0,\\zeta - 1 \\right)}}{2} \\right)} \\sqrt{\\left|{\\zeta - 1}\\right|}}{\\tau} \\right)} - \\zeta \\cos{\\left(\\frac{t \\sqrt{\\zeta + 1} \\sin{\\left(\\frac{\\operatorname{atan_{2}}{\\left(0,\\zeta - 1 \\right)}}{2} \\right)} \\sqrt{\\left|{\\zeta - 1}\\right|}}{\\tau} \\right)} - 2 \\sqrt{\\zeta^{2} - 1} e^{\\frac{t \\left(\\zeta + \\sqrt{\\zeta + 1} \\cos{\\left(\\frac{\\operatorname{atan_{2}}{\\left(0,\\zeta - 1 \\right)}}{2} \\right)} \\sqrt{\\left|{\\zeta - 1}\\right|}\\right)}{\\tau}} + i \\sqrt{\\zeta^{2} - 1} e^{\\frac{2 t \\sqrt{\\zeta + 1} \\cos{\\left(\\frac{\\operatorname{atan_{2}}{\\left(0,\\zeta - 1 \\right)}}{2} \\right)} \\sqrt{\\left|{\\zeta - 1}\\right|}}{\\tau}} \\sin{\\left(\\frac{t \\sqrt{\\zeta + 1} \\sin{\\left(\\frac{\\operatorname{atan_{2}}{\\left(0,\\zeta - 1 \\right)}}{2} \\right)} \\sqrt{\\left|{\\zeta - 1}\\right|}}{\\tau} \\right)} + \\sqrt{\\zeta^{2} - 1} e^{\\frac{2 t \\sqrt{\\zeta + 1} \\cos{\\left(\\frac{\\operatorname{atan_{2}}{\\left(0,\\zeta - 1 \\right)}}{2} \\right)} \\sqrt{\\left|{\\zeta - 1}\\right|}}{\\tau}} \\cos{\\left(\\frac{t \\sqrt{\\zeta + 1} \\sin{\\left(\\frac{\\operatorname{atan_{2}}{\\left(0,\\zeta - 1 \\right)}}{2} \\right)} \\sqrt{\\left|{\\zeta - 1}\\right|}}{\\tau} \\right)} - i \\sqrt{\\zeta^{2} - 1} \\sin{\\left(\\frac{t \\sqrt{\\zeta + 1} \\sin{\\left(\\frac{\\operatorname{atan_{2}}{\\left(0,\\zeta - 1 \\right)}}{2} \\right)} \\sqrt{\\left|{\\zeta - 1}\\right|}}{\\tau} \\right)} + \\sqrt{\\zeta^{2} - 1} \\cos{\\left(\\frac{t \\sqrt{\\zeta + 1} \\sin{\\left(\\frac{\\operatorname{atan_{2}}{\\left(0,\\zeta - 1 \\right)}}{2} \\right)} \\sqrt{\\left|{\\zeta - 1}\\right|}}{\\tau} \\right)}\\right) e^{- \\frac{t \\left(\\zeta + \\sqrt{\\zeta + 1} \\cos{\\left(\\frac{\\operatorname{atan_{2}}{\\left(0,\\zeta - 1 \\right)}}{2} \\right)} \\sqrt{\\left|{\\zeta - 1}\\right|}\\right)}{\\tau}}}{2 \\sqrt{\\zeta^{2} - 1}}$"
      ],
      "text/plain": [
       "   ⎛           _______    ⎛atan2(0, ζ - 1)⎞   _________                       \n",
       "   ⎜     2⋅t⋅╲╱ ζ + 1 ⋅cos⎜───────────────⎟⋅╲╱ │ζ - 1│                        \n",
       "   ⎜                      ⎝       2       ⎠                ⎛    _______    ⎛at\n",
       "   ⎜     ──────────────────────────────────────────────    ⎜t⋅╲╱ ζ + 1 ⋅sin⎜──\n",
       "   ⎜                           τ                           ⎜               ⎝  \n",
       "-K⋅⎜ⅈ⋅ζ⋅ℯ                                              ⋅sin⎜──────────────────\n",
       "   ⎝                                                       ⎝                  \n",
       "──────────────────────────────────────────────────────────────────────────────\n",
       "                                                                              \n",
       "                                                                              \n",
       "                                                                              \n",
       "\n",
       "                                       _______    ⎛atan2(0, ζ - 1)⎞   ________\n",
       "                                 2⋅t⋅╲╱ ζ + 1 ⋅cos⎜───────────────⎟⋅╲╱ │ζ - 1│\n",
       "an2(0, ζ - 1)⎞   _________⎞                       ⎝       2       ⎠           \n",
       "─────────────⎟⋅╲╱ │ζ - 1│ ⎟      ─────────────────────────────────────────────\n",
       "     2       ⎠            ⎟                            τ                      \n",
       "──────────────────────────⎟ + ζ⋅ℯ                                             \n",
       "   τ                      ⎠                                                   \n",
       "──────────────────────────────────────────────────────────────────────────────\n",
       "                                                                              \n",
       "                                                                              \n",
       "                                                                              \n",
       "\n",
       "_                                                                             \n",
       "                                                                              \n",
       "     ⎛    _______    ⎛atan2(0, ζ - 1)⎞   _________⎞          ⎛    _______    ⎛\n",
       "─    ⎜t⋅╲╱ ζ + 1 ⋅sin⎜───────────────⎟⋅╲╱ │ζ - 1│ ⎟          ⎜t⋅╲╱ ζ + 1 ⋅sin⎜\n",
       "     ⎜               ⎝       2       ⎠            ⎟          ⎜               ⎝\n",
       " ⋅cos⎜────────────────────────────────────────────⎟ + ⅈ⋅ζ⋅sin⎜────────────────\n",
       "     ⎝                     τ                      ⎠          ⎝                \n",
       "──────────────────────────────────────────────────────────────────────────────\n",
       "                                                                              \n",
       "                                                                              \n",
       "                                                                              \n",
       "\n",
       "                                                                              \n",
       "                                                                              \n",
       "atan2(0, ζ - 1)⎞   _________⎞        ⎛    _______    ⎛atan2(0, ζ - 1)⎞   _____\n",
       "───────────────⎟⋅╲╱ │ζ - 1│ ⎟        ⎜t⋅╲╱ ζ + 1 ⋅sin⎜───────────────⎟⋅╲╱ │ζ -\n",
       "       2       ⎠            ⎟        ⎜               ⎝       2       ⎠        \n",
       "────────────────────────────⎟ - ζ⋅cos⎜────────────────────────────────────────\n",
       "     τ                      ⎠        ⎝                     τ                  \n",
       "──────────────────────────────────────────────────────────────────────────────\n",
       "                                                                              \n",
       "                                                                              \n",
       "                                                                              \n",
       "\n",
       "                         ⎛      _______    ⎛atan2(0, ζ - 1)⎞   _________⎞     \n",
       "                       t⋅⎜ζ + ╲╱ ζ + 1 ⋅cos⎜───────────────⎟⋅╲╱ │ζ - 1│ ⎟     \n",
       "____⎞                    ⎝                 ⎝       2       ⎠            ⎠     \n",
       " 1│ ⎟        ________  ──────────────────────────────────────────────────     \n",
       "    ⎟       ╱  2                               τ                              \n",
       "────⎟ - 2⋅╲╱  ζ  - 1 ⋅ℯ                                                   + ⅈ⋅\n",
       "    ⎠                                                                         \n",
       "──────────────────────────────────────────────────────────────────────────────\n",
       "                                                                              \n",
       "                                                                              \n",
       "                                                                              \n",
       "\n",
       "                   _______    ⎛atan2(0, ζ - 1)⎞   _________                   \n",
       "             2⋅t⋅╲╱ ζ + 1 ⋅cos⎜───────────────⎟⋅╲╱ │ζ - 1│                    \n",
       "                              ⎝       2       ⎠                ⎛    _______   \n",
       "   ________  ──────────────────────────────────────────────    ⎜t⋅╲╱ ζ + 1 ⋅si\n",
       "  ╱  2                             τ                           ⎜              \n",
       "╲╱  ζ  - 1 ⋅ℯ                                              ⋅sin⎜──────────────\n",
       "                                                               ⎝              \n",
       "──────────────────────────────────────────────────────────────────────────────\n",
       "       ________                                                               \n",
       "      ╱  2                                                                    \n",
       "  2⋅╲╱  ζ  - 1                                                                \n",
       "\n",
       "                                                     _______    ⎛atan2(0, ζ - \n",
       "                                               2⋅t⋅╲╱ ζ + 1 ⋅cos⎜─────────────\n",
       " ⎛atan2(0, ζ - 1)⎞   _________⎞                                 ⎝       2     \n",
       "n⎜───────────────⎟⋅╲╱ │ζ - 1│ ⎟      ________  ───────────────────────────────\n",
       " ⎝       2       ⎠            ⎟     ╱  2                             τ        \n",
       "──────────────────────────────⎟ + ╲╱  ζ  - 1 ⋅ℯ                               \n",
       "       τ                      ⎠                                               \n",
       "──────────────────────────────────────────────────────────────────────────────\n",
       "                                                                              \n",
       "                                                                              \n",
       "                                                                              \n",
       "\n",
       "1)⎞   _________                                                               \n",
       "──⎟⋅╲╱ │ζ - 1│                                                                \n",
       "  ⎠                ⎛    _______    ⎛atan2(0, ζ - 1)⎞   _________⎞             \n",
       "───────────────    ⎜t⋅╲╱ ζ + 1 ⋅sin⎜───────────────⎟⋅╲╱ │ζ - 1│ ⎟        _____\n",
       "                   ⎜               ⎝       2       ⎠            ⎟       ╱  2  \n",
       "               ⋅cos⎜────────────────────────────────────────────⎟ - ⅈ⋅╲╱  ζ  -\n",
       "                   ⎝                     τ                      ⎠             \n",
       "──────────────────────────────────────────────────────────────────────────────\n",
       "                                                                              \n",
       "                                                                              \n",
       "                                                                              \n",
       "\n",
       "                                                                              \n",
       "                                                                              \n",
       "       ⎛    _______    ⎛atan2(0, ζ - 1)⎞   _________⎞                  ⎛    __\n",
       "___    ⎜t⋅╲╱ ζ + 1 ⋅sin⎜───────────────⎟⋅╲╱ │ζ - 1│ ⎟      ________    ⎜t⋅╲╱ ζ\n",
       "       ⎜               ⎝       2       ⎠            ⎟     ╱  2         ⎜      \n",
       " 1 ⋅sin⎜────────────────────────────────────────────⎟ + ╲╱  ζ  - 1 ⋅cos⎜──────\n",
       "       ⎝                     τ                      ⎠                  ⎝      \n",
       "──────────────────────────────────────────────────────────────────────────────\n",
       "                                                                              \n",
       "                                                                              \n",
       "                                                                              \n",
       "\n",
       "                                       ⎞     ⎛      _______    ⎛atan2(0, ζ - 1\n",
       "                                       ⎟  -t⋅⎜ζ + ╲╱ ζ + 1 ⋅cos⎜──────────────\n",
       "_____    ⎛atan2(0, ζ - 1)⎞   _________⎞⎟     ⎝                 ⎝       2      \n",
       " + 1 ⋅sin⎜───────────────⎟⋅╲╱ │ζ - 1│ ⎟⎟  ────────────────────────────────────\n",
       "         ⎝       2       ⎠            ⎟⎟                           τ          \n",
       "──────────────────────────────────────⎟⎟⋅ℯ                                    \n",
       "               τ                      ⎠⎠                                      \n",
       "──────────────────────────────────────────────────────────────────────────────\n",
       "                                                                              \n",
       "                                                                              \n",
       "                                                                              \n",
       "\n",
       ")⎞   _________⎞  \n",
       "─⎟⋅╲╱ │ζ - 1│ ⎟  \n",
       " ⎠            ⎠  \n",
       "──────────────── \n",
       "                 \n",
       "                 \n",
       "                 \n",
       "─────────────────\n",
       "                 \n",
       "                 \n",
       "                 "
      ]
     },
     "execution_count": 7,
     "metadata": {},
     "output_type": "execute_result"
    }
   ],
   "source": [
    "H.simplify()"
   ]
  },
  {
   "cell_type": "markdown",
   "metadata": {},
   "source": [
    "The characteristic equation is the denominator of the transfer function"
   ]
  },
  {
   "cell_type": "code",
   "execution_count": 8,
   "metadata": {},
   "outputs": [
    {
     "data": {
      "image/png": "[encoded data removed]",
      "text/latex": [
       "$\\displaystyle s^{2} \\tau^{2} + 2 s \\tau \\zeta + 1 = 0$"
      ],
      "text/plain": [
       " 2  2                  \n",
       "s ⋅τ  + 2⋅s⋅τ⋅ζ + 1 = 0"
      ]
     },
     "execution_count": 8,
     "metadata": {},
     "output_type": "execute_result"
    }
   ],
   "source": [
    "ce = sympy.Eq(sympy.denom(G), 0)\n",
    "ce"
   ]
  },
  {
   "cell_type": "code",
   "execution_count": 9,
   "metadata": {},
   "outputs": [
    {
     "data": {
      "image/png": "[encoded data removed]",
      "text/latex": [
       "$\\displaystyle \\left\\{ \\frac{- \\zeta - \\sqrt{\\zeta - 1} \\sqrt{\\zeta + 1}}{\\tau} : 1, \\  \\frac{- \\zeta + \\sqrt{\\zeta - 1} \\sqrt{\\zeta + 1}}{\\tau} : 1\\right\\}$"
      ],
      "text/plain": [
       "⎧       _______   _______            _______   _______   ⎫\n",
       "⎪-ζ - ╲╱ ζ - 1 ⋅╲╱ ζ + 1      -ζ + ╲╱ ζ - 1 ⋅╲╱ ζ + 1    ⎪\n",
       "⎨────────────────────────: 1, ────────────────────────: 1⎬\n",
       "⎪           τ                            τ               ⎪\n",
       "⎩                                                        ⎭"
      ]
     },
     "execution_count": 9,
     "metadata": {},
     "output_type": "execute_result"
    }
   ],
   "source": [
    "roots = sympy.roots(ce, s)\n",
    "roots"
   ]
  },
  {
   "cell_type": "markdown",
   "metadata": {},
   "source": [
    "The shape of the inverse Laplace depends on the nature of the roots, which depends on the value of $\\zeta$"
   ]
  },
  {
   "cell_type": "markdown",
   "metadata": {},
   "source": [
    "Overdamped: $\\zeta>1$. Two distinct real roots"
   ]
  },
  {
   "cell_type": "code",
   "execution_count": 26,
   "metadata": {},
   "outputs": [
    {
     "data": {
      "image/png": "[encoded data removed]",
      "text/latex": [
       "$\\displaystyle K - \\frac{7 \\sqrt{3} K e^{- \\frac{7 t}{\\tau}} e^{\\frac{4 \\sqrt{3} t}{\\tau}}}{24} - \\frac{K e^{- \\frac{7 t}{\\tau}} e^{\\frac{4 \\sqrt{3} t}{\\tau}}}{2} - \\frac{K e^{- \\frac{7 t}{\\tau}} e^{- \\frac{4 \\sqrt{3} t}{\\tau}}}{2} + \\frac{7 \\sqrt{3} K e^{- \\frac{7 t}{\\tau}} e^{- \\frac{4 \\sqrt{3} t}{\\tau}}}{24}$"
      ],
      "text/plain": [
       "            -7⋅t   4⋅√3⋅t      -7⋅t   4⋅√3⋅t      -7⋅t   -4⋅√3⋅t            -7\n",
       "            ─────  ──────      ─────  ──────      ─────  ────────           ──\n",
       "              τ      τ           τ      τ           τ       τ                 \n",
       "    7⋅√3⋅K⋅ℯ     ⋅ℯ         K⋅ℯ     ⋅ℯ         K⋅ℯ     ⋅ℯ           7⋅√3⋅K⋅ℯ  \n",
       "K - ───────────────────── - ──────────────── - ────────────────── + ──────────\n",
       "              24                   2                   2                      \n",
       "\n",
       "⋅t   -4⋅√3⋅t \n",
       "───  ────────\n",
       "τ       τ    \n",
       "   ⋅ℯ        \n",
       "─────────────\n",
       " 24          "
      ]
     },
     "execution_count": 26,
     "metadata": {},
     "output_type": "execute_result"
    }
   ],
   "source": [
    "invL(G.subs({zeta: 7})/s).simplify().expand()"
   ]
  },
  {
   "cell_type": "markdown",
   "metadata": {},
   "source": [
    "Critically damped: $\\zeta=1$. Repeated roots."
   ]
  },
  {
   "cell_type": "code",
   "execution_count": 25,
   "metadata": {},
   "outputs": [
    {
     "data": {
      "image/png": "[encoded data removed]",
      "text/latex": [
       "$\\displaystyle - \\frac{K t e^{- \\frac{t}{\\tau}}}{\\tau} + K - K e^{- \\frac{t}{\\tau}}$"
      ],
      "text/plain": [
       "       -t              \n",
       "       ───          -t \n",
       "        τ           ───\n",
       "  K⋅t⋅ℯ              τ \n",
       "- ──────── + K - K⋅ℯ   \n",
       "     τ                 "
      ]
     },
     "execution_count": 25,
     "metadata": {},
     "output_type": "execute_result"
    }
   ],
   "source": [
    "invL(G.subs({zeta: 1})/s)"
   ]
  },
  {
   "cell_type": "markdown",
   "metadata": {},
   "source": [
    "Underdamped: $0<\\zeta<1$: a complex conjugate pair of roots"
   ]
  },
  {
   "cell_type": "code",
   "execution_count": 27,
   "metadata": {},
   "outputs": [
    {
     "data": {
      "image/png": "[encoded data removed]",
      "text/latex": [
       "$\\displaystyle 1.0 K - 0.980196058819607 K e^{- \\frac{0.7 t}{\\tau}} \\sin{\\left(\\frac{0.714142842854285 t}{\\tau} \\right)} - 1.0 K e^{- \\frac{0.7 t}{\\tau}} \\cos{\\left(\\frac{0.714142842854285 t}{\\tau} \\right)}$"
      ],
      "text/plain": [
       "                             -0.7⋅t                                    -0.7⋅t \n",
       "                             ───────                                   ───────\n",
       "                                τ       ⎛0.714142842854285⋅t⎞             τ   \n",
       "1.0⋅K - 0.980196058819607⋅K⋅ℯ       ⋅sin⎜───────────────────⎟ - 1.0⋅K⋅ℯ       \n",
       "                                        ⎝         τ         ⎠                 \n",
       "\n",
       "                         \n",
       "                         \n",
       "    ⎛0.714142842854285⋅t⎞\n",
       "⋅cos⎜───────────────────⎟\n",
       "    ⎝         τ         ⎠"
      ]
     },
     "execution_count": 27,
     "metadata": {},
     "output_type": "execute_result"
    }
   ],
   "source": [
    "r = invL(G.subs({zeta: 0.7})/s)\n",
    "r"
   ]
  },
  {
   "cell_type": "markdown",
   "metadata": {},
   "source": [
    "We can get prettier results if we use `Rational`s instead of `floats`"
   ]
  },
  {
   "cell_type": "code",
   "execution_count": 28,
   "metadata": {},
   "outputs": [
    {
     "data": {
      "image/png": "[encoded data removed]",
      "text/latex": [
       "$\\displaystyle K - \\frac{\\sqrt{3} K e^{- \\frac{t}{2 \\tau}} \\sin{\\left(\\frac{\\sqrt{3} t}{2 \\tau} \\right)}}{3} - K e^{- \\frac{t}{2 \\tau}} \\cos{\\left(\\frac{\\sqrt{3} t}{2 \\tau} \\right)}$"
      ],
      "text/plain": [
       "          -t                              \n",
       "          ───                             \n",
       "          2⋅τ    ⎛√3⋅t⎞      -t           \n",
       "    √3⋅K⋅ℯ   ⋅sin⎜────⎟      ───          \n",
       "                 ⎝2⋅τ ⎠      2⋅τ    ⎛√3⋅t⎞\n",
       "K - ─────────────────── - K⋅ℯ   ⋅cos⎜────⎟\n",
       "             3                      ⎝2⋅τ ⎠"
      ]
     },
     "execution_count": 28,
     "metadata": {},
     "output_type": "execute_result"
    }
   ],
   "source": [
    "r = invL(G.subs({zeta: sympy.Rational(1, 2)})/s)\n",
    "r"
   ]
  },
  {
   "cell_type": "code",
   "execution_count": 14,
   "metadata": {},
   "outputs": [],
   "source": [
    "from ipywidgets import interact"
   ]
  },
  {
   "cell_type": "code",
   "execution_count": 15,
   "metadata": {},
   "outputs": [],
   "source": [
    "def secondorder(K_in, tau_in, zeta_in, tmax):\n",
    "    values = {K: sympy.nsimplify(K_in), tau: sympy.nsimplify(tau_in), zeta: sympy.nsimplify(zeta_in)}\n",
    "    stepresponse = sympy.re(invL(G.subs(values)/s))\n",
    "    sympy.plot(stepresponse, (t, 0, tmax), ylim = [0, 10])\n",
    "    roots = sympy.roots(sympy.denom(G.subs(values)), s)\n",
    "    root = np.array(list(roots))\n",
    "    X = [sympy.re(x) for x in root]\n",
    "    Y = [sympy.im(x) for x in root]\n",
    "    plt.scatter(X,Y)\n",
    "    plt.plot([0,0],[-1,1],'k-')\n",
    "    plt.plot([-1,1],[0,0],'k-')\n",
    "    plt.show()"
   ]
  },
  {
   "cell_type": "code",
   "execution_count": 16,
   "metadata": {},
   "outputs": [
    {
     "data": {
      "application/vnd.jupyter.widget-view+json": {
       "model_id": "4f6c439099cf49f9adcd5980ef916da3",
       "version_major": 2,
       "version_minor": 0
      },
      "text/plain": [
       "interactive(children=(FloatSlider(value=5.0, description='K_in', max=10.0), FloatSlider(value=5.0, description…"
      ]
     },
     "metadata": {},
     "output_type": "display_data"
    }
   ],
   "source": [
    "interact(secondorder, K_in=(0, 10.), tau_in=(0., 10.), zeta_in=(0., 2), tmax=(30., 100));"
   ]
  }
 ],
 "metadata": {
  "anaconda-cloud": {},
  "kernelspec": {
   "display_name": "Python 3",
   "language": "python",
   "name": "python3"
  },
  "language_info": {
   "codemirror_mode": {
    "name": "ipython",
    "version": 3
   },
   "file_extension": ".py",
   "mimetype": "text/x-python",
   "name": "python",
   "nbconvert_exporter": "python",
   "pygments_lexer": "ipython3",
   "version": "3.7.7"
  }
 },
 "nbformat": 4,
 "nbformat_minor": 4
}
